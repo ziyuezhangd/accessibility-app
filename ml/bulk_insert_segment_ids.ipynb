{
 "cells": [
  {
   "cell_type": "markdown",
   "metadata": {},
   "source": [
    "# Bulk inserting segment Ids\n",
    "This notebook handles the translation of latitude/longitude columns within a dataset to their nearest segment ID. This is a very compute-intensive operation which should only need to be run one time on any given dataset."
   ]
  },
  {
   "cell_type": "code",
   "execution_count": 1,
   "metadata": {},
   "outputs": [],
   "source": [
    "import pandas as pd\n",
    "import requests\n",
    "from zipfile import ZipFile as zzip\n",
    "import fiona\n",
    "import geopandas as gpd\n",
    "from shapely.geometry import Point\n",
    "import json"
   ]
  },
  {
   "cell_type": "code",
   "execution_count": 2,
   "metadata": {},
   "outputs": [],
   "source": [
    "LION_ZIP_DIR = \"input_data/nyclion_19b.zip\"\n",
    "GDB_FILE = r\"input_data/lion/lion.gdb\"\n",
    "OUTPUT_DIR = \"output/\""
   ]
  },
  {
   "cell_type": "markdown",
   "metadata": {},
   "source": [
    "## Download LION data"
   ]
  },
  {
   "cell_type": "code",
   "execution_count": 3,
   "metadata": {},
   "outputs": [
    {
     "name": "stdout",
     "output_type": "stream",
     "text": [
      "File Name                                             Modified             Size\n",
      "lion/lion.gdb/a00000001.freelist               2019-05-13 12:48:56         4440\n",
      "lion/lion.gdb/a00000001.gdbindexes             2019-05-13 12:42:56          110\n",
      "lion/lion.gdb/a00000001.gdbtable               2019-05-13 12:48:56          385\n",
      "lion/lion.gdb/a00000001.gdbtablx               2019-05-13 12:48:56         5152\n",
      "lion/lion.gdb/a00000001.TablesByName.atx       2019-05-13 12:48:56         4118\n",
      "lion/lion.gdb/a00000002.gdbtable               2019-05-13 12:42:56         2055\n",
      "lion/lion.gdb/a00000002.gdbtablx               2019-05-13 12:42:56         5152\n",
      "lion/lion.gdb/a00000003.gdbindexes             2019-05-13 12:42:56           42\n",
      "lion/lion.gdb/a00000003.gdbtable               2019-05-13 12:44:22         1825\n",
      "lion/lion.gdb/a00000003.gdbtablx               2019-05-13 12:44:22         5152\n",
      "lion/lion.gdb/a00000004.CatItemsByPhysicalName.atx 2019-05-13 12:48:56         4118\n",
      "lion/lion.gdb/a00000004.CatItemsByType.atx     2019-05-13 12:48:56         4118\n",
      "lion/lion.gdb/a00000004.FDO_UUID.atx           2019-05-13 12:48:56         4118\n",
      "lion/lion.gdb/a00000004.freelist               2019-05-13 12:49:38        57688\n",
      "lion/lion.gdb/a00000004.gdbindexes             2019-05-13 12:42:56          310\n",
      "lion/lion.gdb/a00000004.gdbtable               2019-05-13 12:49:38       399741\n",
      "lion/lion.gdb/a00000004.gdbtablx               2019-05-13 12:49:38         5152\n",
      "lion/lion.gdb/a00000004.spx                    2019-05-13 12:49:30        45078\n",
      "lion/lion.gdb/a00000005.CatItemTypesByName.atx 2019-05-13 12:42:56        12310\n",
      "lion/lion.gdb/a00000005.CatItemTypesByParentTypeID.atx 2019-05-13 12:42:56         4118\n",
      "lion/lion.gdb/a00000005.CatItemTypesByUUID.atx 2019-05-13 12:42:56         4118\n",
      "lion/lion.gdb/a00000005.gdbindexes             2019-05-13 12:42:56          296\n",
      "lion/lion.gdb/a00000005.gdbtable               2019-05-13 12:42:56         1803\n",
      "lion/lion.gdb/a00000005.gdbtablx               2019-05-13 12:42:56         5152\n",
      "lion/lion.gdb/a00000006.CatRelsByDestinationID.atx 2019-05-13 12:48:56         4118\n",
      "lion/lion.gdb/a00000006.CatRelsByOriginID.atx  2019-05-13 12:48:56         4118\n",
      "lion/lion.gdb/a00000006.CatRelsByType.atx      2019-05-13 12:48:56         4118\n",
      "lion/lion.gdb/a00000006.FDO_UUID.atx           2019-05-13 12:48:56         4118\n",
      "lion/lion.gdb/a00000006.freelist               2019-05-13 12:48:56         4440\n",
      "lion/lion.gdb/a00000006.gdbindexes             2019-05-13 12:42:56          318\n",
      "lion/lion.gdb/a00000006.gdbtable               2019-05-13 12:48:56          701\n",
      "lion/lion.gdb/a00000006.gdbtablx               2019-05-13 12:48:56         5152\n",
      "lion/lion.gdb/a00000007.CatRelTypesByBackwardLabel.atx 2019-05-13 12:42:56         4118\n",
      "lion/lion.gdb/a00000007.CatRelTypesByDestItemTypeID.atx 2019-05-13 12:42:56         4118\n",
      "lion/lion.gdb/a00000007.CatRelTypesByForwardLabel.atx 2019-05-13 12:42:56         4118\n",
      "lion/lion.gdb/a00000007.CatRelTypesByName.atx  2019-05-13 12:42:56         4118\n",
      "lion/lion.gdb/a00000007.CatRelTypesByOriginItemTypeID.atx 2019-05-13 12:42:56         4118\n",
      "lion/lion.gdb/a00000007.CatRelTypesByUUID.atx  2019-05-13 12:42:56         4118\n",
      "lion/lion.gdb/a00000007.gdbindexes             2019-05-13 12:42:56          602\n",
      "lion/lion.gdb/a00000007.gdbtable               2019-05-13 12:42:56         2504\n",
      "lion/lion.gdb/a00000007.gdbtablx               2019-05-13 12:42:56         5152\n",
      "lion/lion.gdb/a0000000a.gdbindexes             2019-05-13 12:44:48          116\n",
      "lion/lion.gdb/a0000000a.gdbtable               2019-05-13 12:44:48      3247250\n",
      "lion/lion.gdb/a0000000a.gdbtablx               2019-05-13 12:44:48       665632\n",
      "lion/lion.gdb/a0000000a.spx                    2019-05-13 12:44:48      1609750\n",
      "lion/lion.gdb/a0000000b.gdbindexes             2019-05-13 12:44:56           66\n",
      "lion/lion.gdb/a0000000b.gdbtable               2019-05-13 12:45:24      5491953\n",
      "lion/lion.gdb/a0000000b.gdbtablx               2019-05-13 12:45:24      1172512\n",
      "lion/lion.gdb/a0000000c.gdbindexes             2019-05-13 12:45:30           66\n",
      "lion/lion.gdb/a0000000c.gdbtable               2019-05-13 12:45:42      6406110\n",
      "lion/lion.gdb/a0000000c.gdbtablx               2019-05-13 12:45:42       527392\n",
      "lion/lion.gdb/a0000000d.freelist               2019-05-13 12:48:44        20824\n",
      "lion/lion.gdb/a0000000d.gdbindexes             2019-05-13 12:48:30          116\n",
      "lion/lion.gdb/a0000000d.gdbtable               2019-05-13 12:48:44    126137796\n",
      "lion/lion.gdb/a0000000d.gdbtablx               2019-05-13 12:48:44      1136672\n",
      "lion/lion.gdb/a0000000d.spx                    2019-05-13 12:48:30      4362262\n",
      "lion/lion.gdb/gdb                              2019-05-13 12:42:56            4\n",
      "lion/lion.gdb/timestamps                       2019-05-13 12:47:14          400\n",
      "lion/LION - Street Name Labels.lyr             2013-09-24 18:10:22        18432\n",
      "lion/LION Streets - Generic.lyr                2017-02-10 07:51:36        21504\n",
      "lion/LION Streets - Roadbeds.lyr               2017-02-10 07:54:38        21504\n",
      "lion/LION - Generic.lyr                        2017-02-10 07:48:08        24576\n",
      "lion/LION - Roadbeds.lyr                       2017-02-10 07:49:32        24576\n",
      "lion/LION - Nodes.lyr                          2012-08-17 13:19:50        11776\n",
      "lion/LION - Street Direction Arrows (ArcGIS 10x).lyr 2013-01-15 10:58:06        22528\n",
      "lion/LION - Street Direction Arrows (Requires Maplex).lyr 2013-03-12 14:22:44        22528\n",
      "lion/TrafficRepArrows.style                    2012-09-27 08:32:40       598016\n",
      "lion/ReadMe.txt                                2014-03-17 15:27:04         7758\n",
      "altnames_metadata.html                         2019-05-13 12:49:22        38976\n",
      "altnames_metadata.pdf                          2019-05-13 14:35:58       129541\n",
      "lion_metadata.html                             2019-05-13 12:49:12       199830\n",
      "lion_metadata.pdf                              2019-05-13 14:35:22       483768\n",
      "node_metadata.html                             2019-05-13 12:49:32        42396\n",
      "node_metadata.pdf                              2019-05-13 14:34:28       135027\n",
      "node_stname_metadata.html                      2019-05-13 12:49:40        32999\n",
      "node_stname_metadata.pdf                       2019-05-13 14:36:56       123835\n",
      "Done!\n"
     ]
    }
   ],
   "source": [
    "# Download and store lion files\n",
    "url = r\"https://www1.nyc.gov/assets/planning/download/zip/data-maps/open-data/nyclion_19b.zip\"\n",
    "\n",
    "# download the file contents in binary format\n",
    "r = requests.get(url)\n",
    "# open method to open a file on your system and write the contents\n",
    "with open(LION_ZIP_DIR, \"wb\") as file:\n",
    "    file.write(r.content)\n",
    "\n",
    "# opening the zip file in READ mode\n",
    "with zzip(LION_ZIP_DIR, 'r') as file:\n",
    "    # printing all the contents of the zip file\n",
    "    file.printdir()\n",
    "\n",
    "    # extracting all the files\n",
    "    file.extractall(\"input_data/\")\n",
    "    print('Done!')"
   ]
  },
  {
   "cell_type": "code",
   "execution_count": 4,
   "metadata": {},
   "outputs": [
    {
     "name": "stdout",
     "output_type": "stream",
     "text": [
      "['node', 'node_stname', 'altnames', 'lion']\n"
     ]
    }
   ],
   "source": [
    "layers = fiona.listlayers(GDB_FILE)\n",
    "print(layers)"
   ]
  },
  {
   "cell_type": "code",
   "execution_count": 5,
   "metadata": {},
   "outputs": [],
   "source": [
    "lion_gdf = gpd.read_file(GDB_FILE, engine='pyogrio', layer='lion')"
   ]
  },
  {
   "cell_type": "code",
   "execution_count": 6,
   "metadata": {},
   "outputs": [
    {
     "name": "stdout",
     "output_type": "stream",
     "text": [
      "Before:  226977\n",
      "After:  32966\n"
     ]
    }
   ],
   "source": [
    "# Remove rows outside of manhattan just to clean up and speed up operations\n",
    "print(\"Before: \", len(lion_gdf.index))\n",
    "lion_gdf = lion_gdf[lion_gdf.LBoro == 1]\n",
    "print(\"After: \", len(lion_gdf.index))"
   ]
  },
  {
   "cell_type": "code",
   "execution_count": 7,
   "metadata": {},
   "outputs": [],
   "source": [
    "def get_segment_id_from_coords(lat, lng):\n",
    "    point = Point(lng, lat)\n",
    "    if lion_gdf.crs.is_geographic:\n",
    "        point_gdf = gpd.GeoDataFrame([{'geometry': point}], crs=lion_gdf.crs)\n",
    "    else:\n",
    "        point_gdf = gpd.GeoDataFrame([{'geometry': point}], crs=\"EPSG:4326\").to_crs(lion_gdf.crs)\n",
    "    \n",
    "    lion_gdf['distance'] = lion_gdf.geometry.distance(point_gdf.iloc[0].geometry)\n",
    "    nearest_segment = lion_gdf.loc[lion_gdf['distance'].idxmin()]\n",
    "    segment_id = nearest_segment['SegmentID']\n",
    "    return segment_id"
   ]
  },
  {
   "cell_type": "code",
   "execution_count": 8,
   "metadata": {},
   "outputs": [
    {
     "data": {
      "text/plain": [
       "'0297696'"
      ]
     },
     "execution_count": 8,
     "metadata": {},
     "output_type": "execute_result"
    }
   ],
   "source": [
    "# Quick test\n",
    "get_segment_id_from_coords(40.748433, -73.985656)"
   ]
  },
  {
   "cell_type": "code",
   "execution_count": 9,
   "metadata": {},
   "outputs": [],
   "source": [
    "def load_segment_ids():\n",
    "    new_segment_ids = {}\n",
    "    # Opening JSON file\n",
    "    f = open(f\"{OUTPUT_DIR}/segment_id_dict.json\")\n",
    "    data = json.load(f)\n",
    "    for key in data.keys():\n",
    "        coordinates_tuple = tuple(map(float, key.split(',')))\n",
    "        new_segment_ids[coordinates_tuple] = data[key]\n",
    "\n",
    "    return new_segment_ids"
   ]
  },
  {
   "cell_type": "code",
   "execution_count": 10,
   "metadata": {},
   "outputs": [],
   "source": [
    "segment_ids = load_segment_ids()"
   ]
  },
  {
   "cell_type": "code",
   "execution_count": 11,
   "metadata": {},
   "outputs": [
    {
     "name": "stdout",
     "output_type": "stream",
     "text": [
      "[(40.74307, -73.98426), (40.799446, -73.968376), (40.79502, -73.94425), (40.762455, -73.985985)]\n",
      "['0033181', '0038133', '0038090', '0034097']\n"
     ]
    }
   ],
   "source": [
    "print(list(segment_ids.keys())[:4])\n",
    "print(list(segment_ids.values())[:4])"
   ]
  },
  {
   "cell_type": "code",
   "execution_count": 12,
   "metadata": {},
   "outputs": [],
   "source": [
    "def add_segment_id_column(df):\n",
    "    global segment_ids\n",
    "    updated_coordinates = []\n",
    "    for idx, row in df.iterrows():\n",
    "        try:\n",
    "            lat = row['Latitude']\n",
    "            lng = row['Longitude']\n",
    "            if (lat, lng) not in updated_coordinates: # Need to update this column\n",
    "                if (lat, lng) not in segment_ids.keys(): # Need to calculate\n",
    "                    print(f'Calculating segment for ({lat}, {lng})')\n",
    "                    segment_id = get_segment_id_from_coords(lat, lng)\n",
    "                    segment_ids[(lat, lng)] = segment_id\n",
    "                else: # We can pull from our dict\n",
    "                    segment_id = segment_ids[(lat, lng)]\n",
    "                matching_rows = df[(df.Latitude == lat) & (df.Longitude == lng)]\n",
    "                print(f'Updating: {len(matching_rows)}')\n",
    "                df.loc[(df.Latitude == lat) & (df.Longitude == lng), 'SegmentId'] = segment_id\n",
    "                \n",
    "                rows_left = df['SegmentId'].isnull().sum()\n",
    "                print(f'Rows left: {rows_left}')\n",
    "                updated_coordinates.append((lat, lng))\n",
    "\n",
    "                if rows_left == 0:\n",
    "                    return\n",
    "            else:\n",
    "                # Any seg\n",
    "                pass\n",
    "        except:\n",
    "            print(f\"Unable to translate ({lat}, {lng}), skipping\")"
   ]
  },
  {
   "cell_type": "code",
   "execution_count": 15,
   "metadata": {},
   "outputs": [],
   "source": [
    "SUBWAY_DATA = \"input_data/MTA_Subway_Hourly_Ridership_20240607.csv\"\n",
    "BIKE_DATA_1 = \"input_data/202401-citibike-tripdata_1.csv\"\n",
    "BIKE_DATA_2 = \"input_data/202401-citibike-tripdata_2.csv\"\n",
    "SUBWAY_DATA_FEB = \"input_data/Subway_Transit_Data_FEB_2024.csv\""
   ]
  },
  {
   "cell_type": "code",
   "execution_count": 16,
   "metadata": {},
   "outputs": [],
   "source": [
    "df_transit = pd.read_csv(SUBWAY_DATA_FEB)"
   ]
  },
  {
   "cell_type": "code",
   "execution_count": 17,
   "metadata": {},
   "outputs": [
    {
     "name": "stdout",
     "output_type": "stream",
     "text": [
      "<class 'pandas.core.frame.DataFrame'>\n",
      "RangeIndex: 632563 entries, 0 to 632562\n",
      "Data columns (total 15 columns):\n",
      " #   Column                    Non-Null Count   Dtype  \n",
      "---  ------                    --------------   -----  \n",
      " 0   transit_timestamp         632563 non-null  object \n",
      " 1   transit_mode              632563 non-null  object \n",
      " 2   station_complex_id        632563 non-null  object \n",
      " 3   station_complex           632563 non-null  object \n",
      " 4   borough                   632563 non-null  object \n",
      " 5   payment_method            632563 non-null  object \n",
      " 6   fare_class_category       632563 non-null  object \n",
      " 7   ridership                 632563 non-null  int64  \n",
      " 8   transfers                 632563 non-null  int64  \n",
      " 9   Latitude                  632563 non-null  float64\n",
      " 10  Longitude                 632563 non-null  float64\n",
      " 11  Georeference              632563 non-null  object \n",
      " 12  Counties                  632563 non-null  int64  \n",
      " 13  NYS Municipal Boundaries  632563 non-null  int64  \n",
      " 14  SegmentId                 0 non-null       object \n",
      "dtypes: float64(2), int64(4), object(9)\n",
      "memory usage: 72.4+ MB\n"
     ]
    }
   ],
   "source": [
    "df_transit.columns\n",
    "df_transit = df_transit[df_transit.borough == 'Manhattan']\n",
    "df_transit.rename(columns={'latitude': 'Latitude', 'longitude': 'Longitude'}, inplace=True)\n",
    "df_transit['SegmentId'] = None\n",
    "\n",
    "df_transit.info()"
   ]
  },
  {
   "cell_type": "code",
   "execution_count": 18,
   "metadata": {},
   "outputs": [
    {
     "name": "stdout",
     "output_type": "stream",
     "text": [
      "Expected length of segment ids:  161\n",
      "Actual:  6635\n"
     ]
    }
   ],
   "source": [
    "uniq = df_transit.drop_duplicates(subset=['Latitude', 'Longitude'])\n",
    "print(\"Expected length of segment ids: \", len(uniq))\n",
    "print(\"Actual: \", len(segment_ids))"
   ]
  },
  {
   "cell_type": "code",
   "execution_count": 19,
   "metadata": {},
   "outputs": [
    {
     "name": "stdout",
     "output_type": "stream",
     "text": [
      "Updating: 4735\n",
      "Rows left: 627828\n",
      "Updating: 4644\n",
      "Rows left: 623184\n",
      "Updating: 4681\n",
      "Rows left: 618503\n",
      "Updating: 5134\n",
      "Rows left: 613369\n",
      "Updating: 5242\n",
      "Rows left: 608127\n",
      "Updating: 5260\n",
      "Rows left: 602867\n",
      "Updating: 5653\n",
      "Rows left: 597214\n",
      "Updating: 5043\n",
      "Rows left: 592171\n",
      "Updating: 4723\n",
      "Rows left: 587448\n",
      "Updating: 5404\n",
      "Rows left: 582044\n",
      "Updating: 5466\n",
      "Rows left: 576578\n",
      "Updating: 4763\n",
      "Rows left: 571815\n",
      "Updating: 5248\n",
      "Rows left: 566567\n",
      "Updating: 4900\n",
      "Rows left: 561667\n",
      "Updating: 5562\n",
      "Rows left: 556105\n",
      "Updating: 5217\n",
      "Rows left: 550888\n",
      "Updating: 4878\n",
      "Rows left: 546010\n",
      "Updating: 5284\n",
      "Rows left: 540726\n",
      "Updating: 5061\n",
      "Rows left: 535665\n",
      "Updating: 5485\n",
      "Rows left: 530180\n",
      "Updating: 5396\n",
      "Rows left: 524784\n",
      "Updating: 5205\n",
      "Rows left: 519579\n",
      "Updating: 5112\n",
      "Rows left: 514467\n",
      "Updating: 5051\n",
      "Rows left: 509416\n",
      "Updating: 4782\n",
      "Rows left: 504634\n",
      "Updating: 5039\n",
      "Rows left: 499595\n",
      "Updating: 4857\n",
      "Rows left: 494738\n",
      "Updating: 5347\n",
      "Rows left: 489391\n",
      "Updating: 5387\n",
      "Rows left: 484004\n",
      "Updating: 5427\n",
      "Rows left: 478577\n",
      "Updating: 5422\n",
      "Rows left: 473155\n",
      "Updating: 4973\n",
      "Rows left: 468182\n",
      "Updating: 4921\n",
      "Rows left: 463261\n",
      "Updating: 4977\n",
      "Rows left: 458284\n",
      "Updating: 5448\n",
      "Rows left: 452836\n",
      "Updating: 5219\n",
      "Rows left: 447617\n",
      "Updating: 5577\n",
      "Rows left: 442040\n",
      "Updating: 4587\n",
      "Rows left: 437453\n",
      "Updating: 5324\n",
      "Rows left: 432129\n",
      "Updating: 5750\n",
      "Rows left: 426379\n",
      "Updating: 5215\n",
      "Rows left: 421164\n",
      "Updating: 4940\n",
      "Rows left: 416224\n",
      "Updating: 5900\n",
      "Rows left: 410324\n",
      "Updating: 5982\n",
      "Rows left: 404342\n",
      "Updating: 4959\n",
      "Rows left: 399383\n",
      "Updating: 5087\n",
      "Rows left: 394296\n",
      "Updating: 5518\n",
      "Rows left: 388778\n",
      "Updating: 4991\n",
      "Rows left: 383787\n",
      "Updating: 5480\n",
      "Rows left: 378307\n",
      "Updating: 5462\n",
      "Rows left: 372845\n",
      "Updating: 5309\n",
      "Rows left: 367536\n",
      "Updating: 5775\n",
      "Rows left: 361761\n",
      "Updating: 5990\n",
      "Rows left: 355771\n",
      "Updating: 5299\n",
      "Rows left: 350472\n",
      "Updating: 4917\n",
      "Rows left: 345555\n",
      "Updating: 5500\n",
      "Rows left: 340055\n",
      "Updating: 4290\n",
      "Rows left: 335765\n",
      "Updating: 5290\n",
      "Rows left: 330475\n",
      "Updating: 5352\n",
      "Rows left: 325123\n",
      "Updating: 4524\n",
      "Rows left: 320599\n",
      "Updating: 5147\n",
      "Rows left: 315452\n",
      "Updating: 741\n",
      "Rows left: 314711\n",
      "Updating: 4406\n",
      "Rows left: 310305\n",
      "Updating: 5358\n",
      "Rows left: 304947\n",
      "Updating: 5374\n",
      "Rows left: 299573\n",
      "Updating: 5642\n",
      "Rows left: 293931\n",
      "Updating: 4873\n",
      "Rows left: 289058\n",
      "Updating: 5298\n",
      "Rows left: 283760\n",
      "Updating: 5234\n",
      "Rows left: 278526\n",
      "Updating: 5324\n",
      "Rows left: 273202\n",
      "Updating: 5644\n",
      "Rows left: 267558\n",
      "Updating: 4994\n",
      "Rows left: 262564\n",
      "Updating: 5791\n",
      "Rows left: 256773\n",
      "Updating: 5136\n",
      "Rows left: 251637\n",
      "Updating: 5512\n",
      "Rows left: 246125\n",
      "Updating: 5154\n",
      "Rows left: 240971\n",
      "Updating: 4704\n",
      "Rows left: 236267\n",
      "Updating: 5268\n",
      "Rows left: 230999\n",
      "Updating: 5723\n",
      "Rows left: 225276\n",
      "Updating: 4695\n",
      "Rows left: 220581\n",
      "Updating: 5076\n",
      "Rows left: 215505\n",
      "Updating: 5074\n",
      "Rows left: 210431\n",
      "Updating: 5083\n",
      "Rows left: 205348\n",
      "Updating: 168\n",
      "Rows left: 205180\n",
      "Updating: 4679\n",
      "Rows left: 200501\n",
      "Updating: 5320\n",
      "Rows left: 195181\n",
      "Updating: 3911\n",
      "Rows left: 191270\n",
      "Updating: 5402\n",
      "Rows left: 185868\n",
      "Updating: 5330\n",
      "Rows left: 180538\n",
      "Updating: 4921\n",
      "Rows left: 175617\n",
      "Updating: 179\n",
      "Rows left: 175438\n",
      "Updating: 4784\n",
      "Rows left: 170654\n",
      "Updating: 5319\n",
      "Rows left: 165335\n",
      "Updating: 5337\n",
      "Rows left: 159998\n",
      "Updating: 4857\n",
      "Rows left: 155141\n",
      "Updating: 5261\n",
      "Rows left: 149880\n",
      "Updating: 4990\n",
      "Rows left: 144890\n",
      "Updating: 5309\n",
      "Rows left: 139581\n",
      "Updating: 4726\n",
      "Rows left: 134855\n",
      "Updating: 183\n",
      "Rows left: 134672\n",
      "Updating: 4795\n",
      "Rows left: 129877\n",
      "Updating: 4146\n",
      "Rows left: 125731\n",
      "Updating: 4715\n",
      "Rows left: 121016\n",
      "Updating: 4727\n",
      "Rows left: 116289\n",
      "Updating: 4711\n",
      "Rows left: 111578\n",
      "Updating: 4069\n",
      "Rows left: 107509\n",
      "Updating: 5567\n",
      "Rows left: 101942\n",
      "Updating: 5536\n",
      "Rows left: 96406\n",
      "Updating: 181\n",
      "Rows left: 96225\n",
      "Updating: 4173\n",
      "Rows left: 92052\n",
      "Updating: 4582\n",
      "Rows left: 87470\n",
      "Updating: 5422\n",
      "Rows left: 82048\n",
      "Updating: 5450\n",
      "Rows left: 76598\n",
      "Updating: 5172\n",
      "Rows left: 71426\n",
      "Updating: 5424\n",
      "Rows left: 66002\n",
      "Updating: 5085\n",
      "Rows left: 60917\n",
      "Updating: 5189\n",
      "Rows left: 55728\n",
      "Updating: 5676\n",
      "Rows left: 50052\n",
      "Updating: 5036\n",
      "Rows left: 45016\n",
      "Updating: 4502\n",
      "Rows left: 40514\n",
      "Updating: 4897\n",
      "Rows left: 35617\n",
      "Updating: 4995\n",
      "Rows left: 30622\n",
      "Updating: 3882\n",
      "Rows left: 26740\n",
      "Updating: 3857\n",
      "Rows left: 22883\n",
      "Updating: 95\n",
      "Rows left: 22788\n",
      "Updating: 4869\n",
      "Rows left: 17919\n",
      "Updating: 4909\n",
      "Rows left: 13010\n",
      "Updating: 538\n",
      "Rows left: 12472\n",
      "Updating: 113\n",
      "Rows left: 12359\n",
      "Updating: 114\n",
      "Rows left: 12245\n",
      "Updating: 281\n",
      "Rows left: 11964\n",
      "Updating: 162\n",
      "Rows left: 11802\n",
      "Updating: 533\n",
      "Rows left: 11269\n",
      "Updating: 636\n",
      "Rows left: 10633\n",
      "Updating: 530\n",
      "Rows left: 10103\n",
      "Updating: 185\n",
      "Rows left: 9918\n",
      "Updating: 225\n",
      "Rows left: 9693\n",
      "Updating: 455\n",
      "Rows left: 9238\n",
      "Updating: 299\n",
      "Rows left: 8939\n",
      "Updating: 246\n",
      "Rows left: 8693\n",
      "Updating: 305\n",
      "Rows left: 8388\n",
      "Updating: 660\n",
      "Rows left: 7728\n",
      "Updating: 87\n",
      "Rows left: 7641\n",
      "Updating: 75\n",
      "Rows left: 7566\n",
      "Updating: 31\n",
      "Rows left: 7535\n",
      "Updating: 204\n",
      "Rows left: 7331\n",
      "Updating: 156\n",
      "Rows left: 7175\n",
      "Updating: 528\n",
      "Rows left: 6647\n",
      "Updating: 175\n",
      "Rows left: 6472\n",
      "Updating: 105\n",
      "Rows left: 6367\n",
      "Updating: 3427\n",
      "Rows left: 2940\n",
      "Updating: 13\n",
      "Rows left: 2927\n",
      "Updating: 70\n",
      "Rows left: 2857\n",
      "Updating: 2505\n",
      "Rows left: 352\n",
      "Updating: 72\n",
      "Rows left: 280\n",
      "Updating: 149\n",
      "Rows left: 131\n",
      "Updating: 66\n",
      "Rows left: 65\n",
      "Updating: 15\n",
      "Rows left: 50\n",
      "Updating: 9\n",
      "Rows left: 41\n",
      "Updating: 30\n",
      "Rows left: 11\n",
      "Updating: 11\n",
      "Rows left: 0\n"
     ]
    }
   ],
   "source": [
    "add_segment_id_column(df_transit)"
   ]
  },
  {
   "cell_type": "code",
   "execution_count": 20,
   "metadata": {},
   "outputs": [
    {
     "data": {
      "text/html": [
       "<div>\n",
       "<style scoped>\n",
       "    .dataframe tbody tr th:only-of-type {\n",
       "        vertical-align: middle;\n",
       "    }\n",
       "\n",
       "    .dataframe tbody tr th {\n",
       "        vertical-align: top;\n",
       "    }\n",
       "\n",
       "    .dataframe thead th {\n",
       "        text-align: right;\n",
       "    }\n",
       "</style>\n",
       "<table border=\"1\" class=\"dataframe\">\n",
       "  <thead>\n",
       "    <tr style=\"text-align: right;\">\n",
       "      <th></th>\n",
       "      <th>transit_timestamp</th>\n",
       "      <th>transit_mode</th>\n",
       "      <th>station_complex_id</th>\n",
       "      <th>station_complex</th>\n",
       "      <th>borough</th>\n",
       "      <th>payment_method</th>\n",
       "      <th>fare_class_category</th>\n",
       "      <th>ridership</th>\n",
       "      <th>transfers</th>\n",
       "      <th>Latitude</th>\n",
       "      <th>Longitude</th>\n",
       "      <th>Georeference</th>\n",
       "      <th>Counties</th>\n",
       "      <th>NYS Municipal Boundaries</th>\n",
       "      <th>SegmentId</th>\n",
       "    </tr>\n",
       "  </thead>\n",
       "  <tbody>\n",
       "    <tr>\n",
       "      <th>0</th>\n",
       "      <td>02/01/2024 12:00:00 AM</td>\n",
       "      <td>subway</td>\n",
       "      <td>304</td>\n",
       "      <td>145 St (1)</td>\n",
       "      <td>Manhattan</td>\n",
       "      <td>metrocard</td>\n",
       "      <td>Metrocard - Other</td>\n",
       "      <td>3</td>\n",
       "      <td>0</td>\n",
       "      <td>40.826550</td>\n",
       "      <td>-73.95036</td>\n",
       "      <td>POINT (-73.95036 40.82655)</td>\n",
       "      <td>2095</td>\n",
       "      <td>749</td>\n",
       "      <td>0038935</td>\n",
       "    </tr>\n",
       "    <tr>\n",
       "      <th>1</th>\n",
       "      <td>02/01/2024 12:00:00 AM</td>\n",
       "      <td>subway</td>\n",
       "      <td>300</td>\n",
       "      <td>191 St (1)</td>\n",
       "      <td>Manhattan</td>\n",
       "      <td>omny</td>\n",
       "      <td>OMNY - Full Fare</td>\n",
       "      <td>3</td>\n",
       "      <td>0</td>\n",
       "      <td>40.855225</td>\n",
       "      <td>-73.92941</td>\n",
       "      <td>POINT (-73.92941 40.855225)</td>\n",
       "      <td>2095</td>\n",
       "      <td>749</td>\n",
       "      <td>0072489</td>\n",
       "    </tr>\n",
       "    <tr>\n",
       "      <th>2</th>\n",
       "      <td>02/01/2024 12:00:00 AM</td>\n",
       "      <td>subway</td>\n",
       "      <td>156</td>\n",
       "      <td>103 St (C,B)</td>\n",
       "      <td>Manhattan</td>\n",
       "      <td>metrocard</td>\n",
       "      <td>Metrocard - Full Fare</td>\n",
       "      <td>1</td>\n",
       "      <td>0</td>\n",
       "      <td>40.796093</td>\n",
       "      <td>-73.96146</td>\n",
       "      <td>POINT (-73.96146 40.796093)</td>\n",
       "      <td>2095</td>\n",
       "      <td>749</td>\n",
       "      <td>0309974</td>\n",
       "    </tr>\n",
       "    <tr>\n",
       "      <th>3</th>\n",
       "      <td>02/01/2024 12:00:00 AM</td>\n",
       "      <td>subway</td>\n",
       "      <td>399</td>\n",
       "      <td>68 St-Hunter College (6)</td>\n",
       "      <td>Manhattan</td>\n",
       "      <td>omny</td>\n",
       "      <td>OMNY - Full Fare</td>\n",
       "      <td>21</td>\n",
       "      <td>2</td>\n",
       "      <td>40.768143</td>\n",
       "      <td>-73.96387</td>\n",
       "      <td>POINT (-73.96387 40.768143)</td>\n",
       "      <td>2095</td>\n",
       "      <td>749</td>\n",
       "      <td>0036431</td>\n",
       "    </tr>\n",
       "    <tr>\n",
       "      <th>4</th>\n",
       "      <td>02/01/2024 12:00:00 AM</td>\n",
       "      <td>subway</td>\n",
       "      <td>324</td>\n",
       "      <td>Houston St (1)</td>\n",
       "      <td>Manhattan</td>\n",
       "      <td>omny</td>\n",
       "      <td>OMNY - Seniors &amp; Disability</td>\n",
       "      <td>1</td>\n",
       "      <td>0</td>\n",
       "      <td>40.728252</td>\n",
       "      <td>-74.00536</td>\n",
       "      <td>POINT (-74.00536 40.728252)</td>\n",
       "      <td>2095</td>\n",
       "      <td>749</td>\n",
       "      <td>0031922</td>\n",
       "    </tr>\n",
       "  </tbody>\n",
       "</table>\n",
       "</div>"
      ],
      "text/plain": [
       "        transit_timestamp transit_mode station_complex_id  \\\n",
       "0  02/01/2024 12:00:00 AM       subway                304   \n",
       "1  02/01/2024 12:00:00 AM       subway                300   \n",
       "2  02/01/2024 12:00:00 AM       subway                156   \n",
       "3  02/01/2024 12:00:00 AM       subway                399   \n",
       "4  02/01/2024 12:00:00 AM       subway                324   \n",
       "\n",
       "            station_complex    borough payment_method  \\\n",
       "0                145 St (1)  Manhattan      metrocard   \n",
       "1                191 St (1)  Manhattan           omny   \n",
       "2              103 St (C,B)  Manhattan      metrocard   \n",
       "3  68 St-Hunter College (6)  Manhattan           omny   \n",
       "4            Houston St (1)  Manhattan           omny   \n",
       "\n",
       "           fare_class_category  ridership  transfers   Latitude  Longitude  \\\n",
       "0            Metrocard - Other          3          0  40.826550  -73.95036   \n",
       "1             OMNY - Full Fare          3          0  40.855225  -73.92941   \n",
       "2        Metrocard - Full Fare          1          0  40.796093  -73.96146   \n",
       "3             OMNY - Full Fare         21          2  40.768143  -73.96387   \n",
       "4  OMNY - Seniors & Disability          1          0  40.728252  -74.00536   \n",
       "\n",
       "                  Georeference  Counties  NYS Municipal Boundaries SegmentId  \n",
       "0   POINT (-73.95036 40.82655)      2095                       749   0038935  \n",
       "1  POINT (-73.92941 40.855225)      2095                       749   0072489  \n",
       "2  POINT (-73.96146 40.796093)      2095                       749   0309974  \n",
       "3  POINT (-73.96387 40.768143)      2095                       749   0036431  \n",
       "4  POINT (-74.00536 40.728252)      2095                       749   0031922  "
      ]
     },
     "execution_count": 20,
     "metadata": {},
     "output_type": "execute_result"
    }
   ],
   "source": [
    "df_transit.head()"
   ]
  },
  {
   "cell_type": "code",
   "execution_count": 21,
   "metadata": {},
   "outputs": [
    {
     "name": "stdout",
     "output_type": "stream",
     "text": [
      "Minimum start date: 2024-02-01 00:00:00\n",
      "Maximum start date: 2024-02-29 23:00:00\n"
     ]
    },
    {
     "name": "stderr",
     "output_type": "stream",
     "text": [
      "/var/folders/k2/s9j0wvg542n0d4_0n5lwnp140000gn/T/ipykernel_20354/820701446.py:1: UserWarning: Could not infer format, so each element will be parsed individually, falling back to `dateutil`. To ensure parsing is consistent and as-expected, please specify a format.\n",
      "  df_transit['transit_timestamp'] = pd.to_datetime(df_transit['transit_timestamp'])\n"
     ]
    }
   ],
   "source": [
    "df_transit['transit_timestamp'] = pd.to_datetime(df_transit['transit_timestamp'])\n",
    "min_start_date = df_transit['transit_timestamp'].min()\n",
    "max_start_date = df_transit['transit_timestamp'].max()\n",
    "\n",
    "print(f\"Minimum start date: {min_start_date}\")\n",
    "print(f\"Maximum start date: {max_start_date}\")"
   ]
  },
  {
   "cell_type": "markdown",
   "metadata": {},
   "source": [
    "## Add column to bike data"
   ]
  },
  {
   "cell_type": "code",
   "execution_count": 22,
   "metadata": {},
   "outputs": [],
   "source": [
    "BIKE_DATA_FEB = \"input_data/Bike_Data_FEB_2024.csv\"\n",
    "BIKE_DATA_MAR = \"input_data/Bike_Data_MAR_2024.csv\""
   ]
  },
  {
   "cell_type": "code",
   "execution_count": 23,
   "metadata": {},
   "outputs": [
    {
     "ename": "FileNotFoundError",
     "evalue": "[Errno 2] No such file or directory: 'input_data/Bike_Date_FEB_2024.csv'",
     "output_type": "error",
     "traceback": [
      "\u001b[0;31m---------------------------------------------------------------------------\u001b[0m",
      "\u001b[0;31mFileNotFoundError\u001b[0m                         Traceback (most recent call last)",
      "Cell \u001b[0;32mIn[23], line 1\u001b[0m\n\u001b[0;32m----> 1\u001b[0m df_bike_1 \u001b[38;5;241m=\u001b[39m \u001b[43mpd\u001b[49m\u001b[38;5;241;43m.\u001b[39;49m\u001b[43mread_csv\u001b[49m\u001b[43m(\u001b[49m\u001b[43mBIKE_DATA_FEB\u001b[49m\u001b[43m,\u001b[49m\u001b[43m \u001b[49m\u001b[43mdtype\u001b[49m\u001b[38;5;241;43m=\u001b[39;49m\u001b[43m{\u001b[49m\u001b[38;5;124;43m\"\u001b[39;49m\u001b[38;5;124;43mstart_station_id\u001b[39;49m\u001b[38;5;124;43m\"\u001b[39;49m\u001b[43m:\u001b[49m\u001b[43m \u001b[49m\u001b[38;5;28;43mstr\u001b[39;49m\u001b[43m}\u001b[49m\u001b[43m)\u001b[49m\n\u001b[1;32m      2\u001b[0m df_bike_2 \u001b[38;5;241m=\u001b[39m pd\u001b[38;5;241m.\u001b[39mread_csv(BIKE_DATA_MAR, dtype\u001b[38;5;241m=\u001b[39m{\u001b[38;5;124m\"\u001b[39m\u001b[38;5;124mstart_station_id\u001b[39m\u001b[38;5;124m\"\u001b[39m: \u001b[38;5;28mstr\u001b[39m, \u001b[38;5;124m\"\u001b[39m\u001b[38;5;124mend_station_id\u001b[39m\u001b[38;5;124m\"\u001b[39m: \u001b[38;5;28mstr\u001b[39m})\n",
      "File \u001b[0;32m~/Documents/git/accessibility-app/.venv/lib/python3.11/site-packages/pandas/io/parsers/readers.py:1026\u001b[0m, in \u001b[0;36mread_csv\u001b[0;34m(filepath_or_buffer, sep, delimiter, header, names, index_col, usecols, dtype, engine, converters, true_values, false_values, skipinitialspace, skiprows, skipfooter, nrows, na_values, keep_default_na, na_filter, verbose, skip_blank_lines, parse_dates, infer_datetime_format, keep_date_col, date_parser, date_format, dayfirst, cache_dates, iterator, chunksize, compression, thousands, decimal, lineterminator, quotechar, quoting, doublequote, escapechar, comment, encoding, encoding_errors, dialect, on_bad_lines, delim_whitespace, low_memory, memory_map, float_precision, storage_options, dtype_backend)\u001b[0m\n\u001b[1;32m   1013\u001b[0m kwds_defaults \u001b[38;5;241m=\u001b[39m _refine_defaults_read(\n\u001b[1;32m   1014\u001b[0m     dialect,\n\u001b[1;32m   1015\u001b[0m     delimiter,\n\u001b[0;32m   (...)\u001b[0m\n\u001b[1;32m   1022\u001b[0m     dtype_backend\u001b[38;5;241m=\u001b[39mdtype_backend,\n\u001b[1;32m   1023\u001b[0m )\n\u001b[1;32m   1024\u001b[0m kwds\u001b[38;5;241m.\u001b[39mupdate(kwds_defaults)\n\u001b[0;32m-> 1026\u001b[0m \u001b[38;5;28;01mreturn\u001b[39;00m \u001b[43m_read\u001b[49m\u001b[43m(\u001b[49m\u001b[43mfilepath_or_buffer\u001b[49m\u001b[43m,\u001b[49m\u001b[43m \u001b[49m\u001b[43mkwds\u001b[49m\u001b[43m)\u001b[49m\n",
      "File \u001b[0;32m~/Documents/git/accessibility-app/.venv/lib/python3.11/site-packages/pandas/io/parsers/readers.py:620\u001b[0m, in \u001b[0;36m_read\u001b[0;34m(filepath_or_buffer, kwds)\u001b[0m\n\u001b[1;32m    617\u001b[0m _validate_names(kwds\u001b[38;5;241m.\u001b[39mget(\u001b[38;5;124m\"\u001b[39m\u001b[38;5;124mnames\u001b[39m\u001b[38;5;124m\"\u001b[39m, \u001b[38;5;28;01mNone\u001b[39;00m))\n\u001b[1;32m    619\u001b[0m \u001b[38;5;66;03m# Create the parser.\u001b[39;00m\n\u001b[0;32m--> 620\u001b[0m parser \u001b[38;5;241m=\u001b[39m \u001b[43mTextFileReader\u001b[49m\u001b[43m(\u001b[49m\u001b[43mfilepath_or_buffer\u001b[49m\u001b[43m,\u001b[49m\u001b[43m \u001b[49m\u001b[38;5;241;43m*\u001b[39;49m\u001b[38;5;241;43m*\u001b[39;49m\u001b[43mkwds\u001b[49m\u001b[43m)\u001b[49m\n\u001b[1;32m    622\u001b[0m \u001b[38;5;28;01mif\u001b[39;00m chunksize \u001b[38;5;129;01mor\u001b[39;00m iterator:\n\u001b[1;32m    623\u001b[0m     \u001b[38;5;28;01mreturn\u001b[39;00m parser\n",
      "File \u001b[0;32m~/Documents/git/accessibility-app/.venv/lib/python3.11/site-packages/pandas/io/parsers/readers.py:1620\u001b[0m, in \u001b[0;36mTextFileReader.__init__\u001b[0;34m(self, f, engine, **kwds)\u001b[0m\n\u001b[1;32m   1617\u001b[0m     \u001b[38;5;28mself\u001b[39m\u001b[38;5;241m.\u001b[39moptions[\u001b[38;5;124m\"\u001b[39m\u001b[38;5;124mhas_index_names\u001b[39m\u001b[38;5;124m\"\u001b[39m] \u001b[38;5;241m=\u001b[39m kwds[\u001b[38;5;124m\"\u001b[39m\u001b[38;5;124mhas_index_names\u001b[39m\u001b[38;5;124m\"\u001b[39m]\n\u001b[1;32m   1619\u001b[0m \u001b[38;5;28mself\u001b[39m\u001b[38;5;241m.\u001b[39mhandles: IOHandles \u001b[38;5;241m|\u001b[39m \u001b[38;5;28;01mNone\u001b[39;00m \u001b[38;5;241m=\u001b[39m \u001b[38;5;28;01mNone\u001b[39;00m\n\u001b[0;32m-> 1620\u001b[0m \u001b[38;5;28mself\u001b[39m\u001b[38;5;241m.\u001b[39m_engine \u001b[38;5;241m=\u001b[39m \u001b[38;5;28;43mself\u001b[39;49m\u001b[38;5;241;43m.\u001b[39;49m\u001b[43m_make_engine\u001b[49m\u001b[43m(\u001b[49m\u001b[43mf\u001b[49m\u001b[43m,\u001b[49m\u001b[43m \u001b[49m\u001b[38;5;28;43mself\u001b[39;49m\u001b[38;5;241;43m.\u001b[39;49m\u001b[43mengine\u001b[49m\u001b[43m)\u001b[49m\n",
      "File \u001b[0;32m~/Documents/git/accessibility-app/.venv/lib/python3.11/site-packages/pandas/io/parsers/readers.py:1880\u001b[0m, in \u001b[0;36mTextFileReader._make_engine\u001b[0;34m(self, f, engine)\u001b[0m\n\u001b[1;32m   1878\u001b[0m     \u001b[38;5;28;01mif\u001b[39;00m \u001b[38;5;124m\"\u001b[39m\u001b[38;5;124mb\u001b[39m\u001b[38;5;124m\"\u001b[39m \u001b[38;5;129;01mnot\u001b[39;00m \u001b[38;5;129;01min\u001b[39;00m mode:\n\u001b[1;32m   1879\u001b[0m         mode \u001b[38;5;241m+\u001b[39m\u001b[38;5;241m=\u001b[39m \u001b[38;5;124m\"\u001b[39m\u001b[38;5;124mb\u001b[39m\u001b[38;5;124m\"\u001b[39m\n\u001b[0;32m-> 1880\u001b[0m \u001b[38;5;28mself\u001b[39m\u001b[38;5;241m.\u001b[39mhandles \u001b[38;5;241m=\u001b[39m \u001b[43mget_handle\u001b[49m\u001b[43m(\u001b[49m\n\u001b[1;32m   1881\u001b[0m \u001b[43m    \u001b[49m\u001b[43mf\u001b[49m\u001b[43m,\u001b[49m\n\u001b[1;32m   1882\u001b[0m \u001b[43m    \u001b[49m\u001b[43mmode\u001b[49m\u001b[43m,\u001b[49m\n\u001b[1;32m   1883\u001b[0m \u001b[43m    \u001b[49m\u001b[43mencoding\u001b[49m\u001b[38;5;241;43m=\u001b[39;49m\u001b[38;5;28;43mself\u001b[39;49m\u001b[38;5;241;43m.\u001b[39;49m\u001b[43moptions\u001b[49m\u001b[38;5;241;43m.\u001b[39;49m\u001b[43mget\u001b[49m\u001b[43m(\u001b[49m\u001b[38;5;124;43m\"\u001b[39;49m\u001b[38;5;124;43mencoding\u001b[39;49m\u001b[38;5;124;43m\"\u001b[39;49m\u001b[43m,\u001b[49m\u001b[43m \u001b[49m\u001b[38;5;28;43;01mNone\u001b[39;49;00m\u001b[43m)\u001b[49m\u001b[43m,\u001b[49m\n\u001b[1;32m   1884\u001b[0m \u001b[43m    \u001b[49m\u001b[43mcompression\u001b[49m\u001b[38;5;241;43m=\u001b[39;49m\u001b[38;5;28;43mself\u001b[39;49m\u001b[38;5;241;43m.\u001b[39;49m\u001b[43moptions\u001b[49m\u001b[38;5;241;43m.\u001b[39;49m\u001b[43mget\u001b[49m\u001b[43m(\u001b[49m\u001b[38;5;124;43m\"\u001b[39;49m\u001b[38;5;124;43mcompression\u001b[39;49m\u001b[38;5;124;43m\"\u001b[39;49m\u001b[43m,\u001b[49m\u001b[43m \u001b[49m\u001b[38;5;28;43;01mNone\u001b[39;49;00m\u001b[43m)\u001b[49m\u001b[43m,\u001b[49m\n\u001b[1;32m   1885\u001b[0m \u001b[43m    \u001b[49m\u001b[43mmemory_map\u001b[49m\u001b[38;5;241;43m=\u001b[39;49m\u001b[38;5;28;43mself\u001b[39;49m\u001b[38;5;241;43m.\u001b[39;49m\u001b[43moptions\u001b[49m\u001b[38;5;241;43m.\u001b[39;49m\u001b[43mget\u001b[49m\u001b[43m(\u001b[49m\u001b[38;5;124;43m\"\u001b[39;49m\u001b[38;5;124;43mmemory_map\u001b[39;49m\u001b[38;5;124;43m\"\u001b[39;49m\u001b[43m,\u001b[49m\u001b[43m \u001b[49m\u001b[38;5;28;43;01mFalse\u001b[39;49;00m\u001b[43m)\u001b[49m\u001b[43m,\u001b[49m\n\u001b[1;32m   1886\u001b[0m \u001b[43m    \u001b[49m\u001b[43mis_text\u001b[49m\u001b[38;5;241;43m=\u001b[39;49m\u001b[43mis_text\u001b[49m\u001b[43m,\u001b[49m\n\u001b[1;32m   1887\u001b[0m \u001b[43m    \u001b[49m\u001b[43merrors\u001b[49m\u001b[38;5;241;43m=\u001b[39;49m\u001b[38;5;28;43mself\u001b[39;49m\u001b[38;5;241;43m.\u001b[39;49m\u001b[43moptions\u001b[49m\u001b[38;5;241;43m.\u001b[39;49m\u001b[43mget\u001b[49m\u001b[43m(\u001b[49m\u001b[38;5;124;43m\"\u001b[39;49m\u001b[38;5;124;43mencoding_errors\u001b[39;49m\u001b[38;5;124;43m\"\u001b[39;49m\u001b[43m,\u001b[49m\u001b[43m \u001b[49m\u001b[38;5;124;43m\"\u001b[39;49m\u001b[38;5;124;43mstrict\u001b[39;49m\u001b[38;5;124;43m\"\u001b[39;49m\u001b[43m)\u001b[49m\u001b[43m,\u001b[49m\n\u001b[1;32m   1888\u001b[0m \u001b[43m    \u001b[49m\u001b[43mstorage_options\u001b[49m\u001b[38;5;241;43m=\u001b[39;49m\u001b[38;5;28;43mself\u001b[39;49m\u001b[38;5;241;43m.\u001b[39;49m\u001b[43moptions\u001b[49m\u001b[38;5;241;43m.\u001b[39;49m\u001b[43mget\u001b[49m\u001b[43m(\u001b[49m\u001b[38;5;124;43m\"\u001b[39;49m\u001b[38;5;124;43mstorage_options\u001b[39;49m\u001b[38;5;124;43m\"\u001b[39;49m\u001b[43m,\u001b[49m\u001b[43m \u001b[49m\u001b[38;5;28;43;01mNone\u001b[39;49;00m\u001b[43m)\u001b[49m\u001b[43m,\u001b[49m\n\u001b[1;32m   1889\u001b[0m \u001b[43m\u001b[49m\u001b[43m)\u001b[49m\n\u001b[1;32m   1890\u001b[0m \u001b[38;5;28;01massert\u001b[39;00m \u001b[38;5;28mself\u001b[39m\u001b[38;5;241m.\u001b[39mhandles \u001b[38;5;129;01mis\u001b[39;00m \u001b[38;5;129;01mnot\u001b[39;00m \u001b[38;5;28;01mNone\u001b[39;00m\n\u001b[1;32m   1891\u001b[0m f \u001b[38;5;241m=\u001b[39m \u001b[38;5;28mself\u001b[39m\u001b[38;5;241m.\u001b[39mhandles\u001b[38;5;241m.\u001b[39mhandle\n",
      "File \u001b[0;32m~/Documents/git/accessibility-app/.venv/lib/python3.11/site-packages/pandas/io/common.py:873\u001b[0m, in \u001b[0;36mget_handle\u001b[0;34m(path_or_buf, mode, encoding, compression, memory_map, is_text, errors, storage_options)\u001b[0m\n\u001b[1;32m    868\u001b[0m \u001b[38;5;28;01melif\u001b[39;00m \u001b[38;5;28misinstance\u001b[39m(handle, \u001b[38;5;28mstr\u001b[39m):\n\u001b[1;32m    869\u001b[0m     \u001b[38;5;66;03m# Check whether the filename is to be opened in binary mode.\u001b[39;00m\n\u001b[1;32m    870\u001b[0m     \u001b[38;5;66;03m# Binary mode does not support 'encoding' and 'newline'.\u001b[39;00m\n\u001b[1;32m    871\u001b[0m     \u001b[38;5;28;01mif\u001b[39;00m ioargs\u001b[38;5;241m.\u001b[39mencoding \u001b[38;5;129;01mand\u001b[39;00m \u001b[38;5;124m\"\u001b[39m\u001b[38;5;124mb\u001b[39m\u001b[38;5;124m\"\u001b[39m \u001b[38;5;129;01mnot\u001b[39;00m \u001b[38;5;129;01min\u001b[39;00m ioargs\u001b[38;5;241m.\u001b[39mmode:\n\u001b[1;32m    872\u001b[0m         \u001b[38;5;66;03m# Encoding\u001b[39;00m\n\u001b[0;32m--> 873\u001b[0m         handle \u001b[38;5;241m=\u001b[39m \u001b[38;5;28;43mopen\u001b[39;49m\u001b[43m(\u001b[49m\n\u001b[1;32m    874\u001b[0m \u001b[43m            \u001b[49m\u001b[43mhandle\u001b[49m\u001b[43m,\u001b[49m\n\u001b[1;32m    875\u001b[0m \u001b[43m            \u001b[49m\u001b[43mioargs\u001b[49m\u001b[38;5;241;43m.\u001b[39;49m\u001b[43mmode\u001b[49m\u001b[43m,\u001b[49m\n\u001b[1;32m    876\u001b[0m \u001b[43m            \u001b[49m\u001b[43mencoding\u001b[49m\u001b[38;5;241;43m=\u001b[39;49m\u001b[43mioargs\u001b[49m\u001b[38;5;241;43m.\u001b[39;49m\u001b[43mencoding\u001b[49m\u001b[43m,\u001b[49m\n\u001b[1;32m    877\u001b[0m \u001b[43m            \u001b[49m\u001b[43merrors\u001b[49m\u001b[38;5;241;43m=\u001b[39;49m\u001b[43merrors\u001b[49m\u001b[43m,\u001b[49m\n\u001b[1;32m    878\u001b[0m \u001b[43m            \u001b[49m\u001b[43mnewline\u001b[49m\u001b[38;5;241;43m=\u001b[39;49m\u001b[38;5;124;43m\"\u001b[39;49m\u001b[38;5;124;43m\"\u001b[39;49m\u001b[43m,\u001b[49m\n\u001b[1;32m    879\u001b[0m \u001b[43m        \u001b[49m\u001b[43m)\u001b[49m\n\u001b[1;32m    880\u001b[0m     \u001b[38;5;28;01melse\u001b[39;00m:\n\u001b[1;32m    881\u001b[0m         \u001b[38;5;66;03m# Binary mode\u001b[39;00m\n\u001b[1;32m    882\u001b[0m         handle \u001b[38;5;241m=\u001b[39m \u001b[38;5;28mopen\u001b[39m(handle, ioargs\u001b[38;5;241m.\u001b[39mmode)\n",
      "\u001b[0;31mFileNotFoundError\u001b[0m: [Errno 2] No such file or directory: 'input_data/Bike_Date_FEB_2024.csv'"
     ]
    }
   ],
   "source": [
    "df_bike_1 = pd.read_csv(BIKE_DATA_FEB, dtype={\"start_station_id\": str})\n",
    "df_bike_2 = pd.read_csv(BIKE_DATA_MAR, dtype={\"start_station_id\": str, \"end_station_id\": str})"
   ]
  },
  {
   "cell_type": "code",
   "execution_count": 72,
   "metadata": {},
   "outputs": [],
   "source": [
    "df_bike = pd.concat([df_bike_1, df_bike_2], ignore_index=True)"
   ]
  },
  {
   "cell_type": "code",
   "execution_count": 73,
   "metadata": {},
   "outputs": [
    {
     "name": "stdout",
     "output_type": "stream",
     "text": [
      "<class 'pandas.core.frame.DataFrame'>\n",
      "RangeIndex: 1954376 entries, 0 to 1954375\n",
      "Data columns (total 13 columns):\n",
      " #   Column              Dtype  \n",
      "---  ------              -----  \n",
      " 0   ride_id             object \n",
      " 1   rideable_type       object \n",
      " 2   started_at          object \n",
      " 3   ended_at            object \n",
      " 4   start_station_name  object \n",
      " 5   start_station_id    object \n",
      " 6   end_station_name    object \n",
      " 7   end_station_id      object \n",
      " 8   start_lat           float64\n",
      " 9   start_lng           float64\n",
      " 10  end_lat             float64\n",
      " 11  end_lng             float64\n",
      " 12  member_casual       object \n",
      "dtypes: float64(4), object(9)\n",
      "memory usage: 193.8+ MB\n"
     ]
    }
   ],
   "source": [
    "df_bike.info()"
   ]
  },
  {
   "cell_type": "code",
   "execution_count": 74,
   "metadata": {},
   "outputs": [
    {
     "name": "stdout",
     "output_type": "stream",
     "text": [
      "Minimum start date: 2024-01-01 00:00:03\n",
      "Maximum start date: 2024-01-31 23:59:59\n"
     ]
    }
   ],
   "source": [
    "df_bike['started_at'] = pd.to_datetime(df_bike['started_at'])\n",
    "min_start_date = df_bike['started_at'].min()\n",
    "max_start_date = df_bike['started_at'].max()\n",
    "\n",
    "print(f\"Minimum start date: {min_start_date}\")\n",
    "print(f\"Maximum start date: {max_start_date}\")"
   ]
  },
  {
   "cell_type": "code",
   "execution_count": 77,
   "metadata": {},
   "outputs": [],
   "source": [
    "df_bike_new = pd.DataFrame()\n",
    "df_bike['started_at'] = pd.to_datetime(df_bike['started_at'])\n",
    "df_bike['ended_at'] = pd.to_datetime(df_bike['ended_at'])\n",
    "\n",
    "df_bike_new['Timestamp'] = pd.concat([df_bike['started_at'], df_bike['ended_at']], ignore_index=True)\n",
    "df_bike_new['Timestamp'] = pd.to_datetime(df_bike_new['Timestamp'])\n",
    "df_bike_new['Timestamp_Rounded'] = df_bike_new['Timestamp'].dt.round(\"h\")\n",
    "df_bike_new['Latitude'] = pd.concat([df_bike['start_lat'], df_bike['end_lat']], ignore_index=True)\n",
    "df_bike_new['Longitude'] = pd.concat([df_bike['start_lng'], df_bike['end_lng']], ignore_index=True)\n",
    "\n",
    "# Round the lat/lngs\n",
    "df_bike_new['Latitude'] = df_bike_new['Latitude'].round(3)\n",
    "df_bike_new['Longitude'] = df_bike_new['Longitude'].round(3)"
   ]
  },
  {
   "cell_type": "code",
   "execution_count": 79,
   "metadata": {},
   "outputs": [
    {
     "name": "stdout",
     "output_type": "stream",
     "text": [
      "Unique lat/long:  6475\n",
      "Unique lat/long/time:  926827\n"
     ]
    }
   ],
   "source": [
    "print(\"Unique lat/long: \", len(df_bike_new.drop_duplicates(subset=['Latitude', 'Longitude'])))\n",
    "print(\"Unique lat/long/time: \", len(df_bike_new.drop_duplicates(subset=['Latitude', 'Longitude', 'Timestamp_Rounded'])))"
   ]
  },
  {
   "cell_type": "code",
   "execution_count": 81,
   "metadata": {},
   "outputs": [
    {
     "name": "stdout",
     "output_type": "stream",
     "text": [
      "Expected length of segment ids:  6636\n",
      "Actual:  161\n"
     ]
    }
   ],
   "source": [
    "uniq = df_bike_new.drop_duplicates(subset=['Latitude', 'Longitude'])\n",
    "print(\"Expected length of segment ids: \", len(segment_ids) + len(uniq))\n",
    "print(\"Actual: \", len(segment_ids))"
   ]
  },
  {
   "cell_type": "code",
   "execution_count": 84,
   "metadata": {},
   "outputs": [
    {
     "name": "stdout",
     "output_type": "stream",
     "text": [
      "Broke up bike into 39088 chunks\n"
     ]
    }
   ],
   "source": [
    "# Split up DF into chunks to be pooled\n",
    "chunk_size = 100\n",
    "num_chunks = len(df_bike_new) // chunk_size + (len(df_bike_new) % chunk_size > 0)\n",
    "chunks = [df_bike_new.iloc[i * chunk_size:(i + 1) * chunk_size] for i in range(num_chunks)]\n",
    "print(f\"Broke up bike into {len(chunks)} chunks\")"
   ]
  },
  {
   "cell_type": "code",
   "execution_count": null,
   "metadata": {},
   "outputs": [],
   "source": [
    "add_segment_id_column(df_bike_new)"
   ]
  },
  {
   "cell_type": "code",
   "execution_count": 116,
   "metadata": {},
   "outputs": [
    {
     "name": "stdout",
     "output_type": "stream",
     "text": [
      "Length of segment ids:  6635\n"
     ]
    },
    {
     "data": {
      "text/html": [
       "<div>\n",
       "<style scoped>\n",
       "    .dataframe tbody tr th:only-of-type {\n",
       "        vertical-align: middle;\n",
       "    }\n",
       "\n",
       "    .dataframe tbody tr th {\n",
       "        vertical-align: top;\n",
       "    }\n",
       "\n",
       "    .dataframe thead th {\n",
       "        text-align: right;\n",
       "    }\n",
       "</style>\n",
       "<table border=\"1\" class=\"dataframe\">\n",
       "  <thead>\n",
       "    <tr style=\"text-align: right;\">\n",
       "      <th></th>\n",
       "      <th>Timestamp</th>\n",
       "      <th>Timestamp_Rounded</th>\n",
       "      <th>Latitude</th>\n",
       "      <th>Longitude</th>\n",
       "      <th>SegmentId</th>\n",
       "    </tr>\n",
       "  </thead>\n",
       "  <tbody>\n",
       "    <tr>\n",
       "      <th>0</th>\n",
       "      <td>2024-01-25 20:39:09</td>\n",
       "      <td>2024-01-25 21:00:00</td>\n",
       "      <td>40.735</td>\n",
       "      <td>-73.991</td>\n",
       "      <td>0032805</td>\n",
       "    </tr>\n",
       "    <tr>\n",
       "      <th>1</th>\n",
       "      <td>2024-01-15 18:44:36</td>\n",
       "      <td>2024-01-15 19:00:00</td>\n",
       "      <td>40.735</td>\n",
       "      <td>-73.988</td>\n",
       "      <td>0032949</td>\n",
       "    </tr>\n",
       "    <tr>\n",
       "      <th>2</th>\n",
       "      <td>2024-01-03 19:27:58</td>\n",
       "      <td>2024-01-03 19:00:00</td>\n",
       "      <td>40.735</td>\n",
       "      <td>-73.988</td>\n",
       "      <td>0032949</td>\n",
       "    </tr>\n",
       "    <tr>\n",
       "      <th>3</th>\n",
       "      <td>2024-01-22 18:29:46</td>\n",
       "      <td>2024-01-22 18:00:00</td>\n",
       "      <td>40.735</td>\n",
       "      <td>-73.988</td>\n",
       "      <td>0032949</td>\n",
       "    </tr>\n",
       "    <tr>\n",
       "      <th>4</th>\n",
       "      <td>2024-01-27 09:55:39</td>\n",
       "      <td>2024-01-27 10:00:00</td>\n",
       "      <td>40.735</td>\n",
       "      <td>-73.988</td>\n",
       "      <td>0032949</td>\n",
       "    </tr>\n",
       "  </tbody>\n",
       "</table>\n",
       "</div>"
      ],
      "text/plain": [
       "            Timestamp   Timestamp_Rounded  Latitude  Longitude SegmentId\n",
       "0 2024-01-25 20:39:09 2024-01-25 21:00:00    40.735    -73.991   0032805\n",
       "1 2024-01-15 18:44:36 2024-01-15 19:00:00    40.735    -73.988   0032949\n",
       "2 2024-01-03 19:27:58 2024-01-03 19:00:00    40.735    -73.988   0032949\n",
       "3 2024-01-22 18:29:46 2024-01-22 18:00:00    40.735    -73.988   0032949\n",
       "4 2024-01-27 09:55:39 2024-01-27 10:00:00    40.735    -73.988   0032949"
      ]
     },
     "execution_count": 116,
     "metadata": {},
     "output_type": "execute_result"
    }
   ],
   "source": [
    "print(\"Length of segment ids: \", len(segment_ids))\n",
    "df_bike_new.head()"
   ]
  },
  {
   "cell_type": "code",
   "execution_count": 115,
   "metadata": {},
   "outputs": [
    {
     "name": "stdout",
     "output_type": "stream",
     "text": [
      "Segment ids saved\n"
     ]
    }
   ],
   "source": [
    "# Convert segment ids into json format\n",
    "segment_ids_as_json = {}\n",
    "for key in segment_ids.keys():\n",
    "    tuple_str = \",\".join([str(key[0]), str(key[1])])\n",
    "    segment_ids_as_json[tuple_str] = segment_ids[key]\n",
    "\n",
    "# Save segment ids for future use\n",
    "with open(f\"{OUTPUT_DIR}/segment_id_dict.json\", \"w\") as outfile: \n",
    "    json.dump(segment_ids_as_json, outfile)\n",
    "    print(\"Segment ids saved\")"
   ]
  },
  {
   "cell_type": "code",
   "execution_count": 118,
   "metadata": {},
   "outputs": [
    {
     "name": "stdout",
     "output_type": "stream",
     "text": [
      "Bike data saved: output//202401-citibike-tripdata_with_segments.csv\n",
      "Transit data saved: output//MTA_Subway_Hourly_Ridership_20240607_with_segments.csv\n"
     ]
    }
   ],
   "source": [
    "# Save our dataframes\n",
    "SUBWAY_DATA = \"input_data/MTA_Subway_Hourly_Ridership_20240607.csv\"\n",
    "BIKE_DATA_1 = \"input_data/202401-citibike-tripdata_1.csv\"\n",
    "BIKE_DATA_2 = \"input_data/202401-citibike-tripdata_2.csv\"\n",
    "\n",
    "bike_csv = f\"{OUTPUT_DIR}/202401-citibike-tripdata_with_segments.csv\"\n",
    "df_bike_new.to_csv(bike_csv, index=False)\n",
    "print(f\"Bike data saved: {bike_csv}\")"
   ]
  },
  {
   "cell_type": "code",
   "execution_count": 28,
   "metadata": {},
   "outputs": [
    {
     "name": "stdout",
     "output_type": "stream",
     "text": [
      "Transit data saved: output//MTA_Subway_Hourly_Ridership_20240607_with_segments.csv\n"
     ]
    }
   ],
   "source": [
    "transit_csv = f\"{OUTPUT_DIR}/MTA_Subway_Hourly_Ridership_20240607_with_segments.csv\"\n",
    "df_transit.to_csv(transit_csv, index=False)\n",
    "print(f\"Transit data saved: {transit_csv}\")"
   ]
  },
  {
   "cell_type": "code",
   "execution_count": 30,
   "metadata": {},
   "outputs": [
    {
     "data": {
      "text/html": [
       "<div>\n",
       "<style scoped>\n",
       "    .dataframe tbody tr th:only-of-type {\n",
       "        vertical-align: middle;\n",
       "    }\n",
       "\n",
       "    .dataframe tbody tr th {\n",
       "        vertical-align: top;\n",
       "    }\n",
       "\n",
       "    .dataframe thead th {\n",
       "        text-align: right;\n",
       "    }\n",
       "</style>\n",
       "<table border=\"1\" class=\"dataframe\">\n",
       "  <thead>\n",
       "    <tr style=\"text-align: right;\">\n",
       "      <th></th>\n",
       "      <th>transit_timestamp</th>\n",
       "      <th>transit_mode</th>\n",
       "      <th>station_complex_id</th>\n",
       "      <th>station_complex</th>\n",
       "      <th>borough</th>\n",
       "      <th>payment_method</th>\n",
       "      <th>fare_class_category</th>\n",
       "      <th>ridership</th>\n",
       "      <th>transfers</th>\n",
       "      <th>Latitude</th>\n",
       "      <th>Longitude</th>\n",
       "      <th>Georeference</th>\n",
       "      <th>Counties</th>\n",
       "      <th>NYS Municipal Boundaries</th>\n",
       "      <th>New York Zip Codes</th>\n",
       "      <th>SegmentId</th>\n",
       "    </tr>\n",
       "  </thead>\n",
       "  <tbody>\n",
       "    <tr>\n",
       "      <th>0</th>\n",
       "      <td>2024-01-01 00:00:00</td>\n",
       "      <td>subway</td>\n",
       "      <td>404</td>\n",
       "      <td>28 St (6)</td>\n",
       "      <td>Manhattan</td>\n",
       "      <td>metrocard</td>\n",
       "      <td>Metrocard - Fair Fare</td>\n",
       "      <td>8</td>\n",
       "      <td>0</td>\n",
       "      <td>40.743070</td>\n",
       "      <td>-73.984260</td>\n",
       "      <td>POINT (-73.98426 40.74307)</td>\n",
       "      <td>2095</td>\n",
       "      <td>749</td>\n",
       "      <td>739.0</td>\n",
       "      <td>33181</td>\n",
       "    </tr>\n",
       "    <tr>\n",
       "      <th>1</th>\n",
       "      <td>2024-01-01 00:00:00</td>\n",
       "      <td>subway</td>\n",
       "      <td>309</td>\n",
       "      <td>103 St (1)</td>\n",
       "      <td>Manhattan</td>\n",
       "      <td>metrocard</td>\n",
       "      <td>Metrocard - Fair Fare</td>\n",
       "      <td>3</td>\n",
       "      <td>0</td>\n",
       "      <td>40.799446</td>\n",
       "      <td>-73.968376</td>\n",
       "      <td>POINT (-73.968376 40.799446)</td>\n",
       "      <td>2095</td>\n",
       "      <td>749</td>\n",
       "      <td>752.0</td>\n",
       "      <td>38133</td>\n",
       "    </tr>\n",
       "    <tr>\n",
       "      <th>2</th>\n",
       "      <td>2024-01-01 00:00:00</td>\n",
       "      <td>subway</td>\n",
       "      <td>394</td>\n",
       "      <td>110 St (6)</td>\n",
       "      <td>Manhattan</td>\n",
       "      <td>metrocard</td>\n",
       "      <td>Metrocard - Other</td>\n",
       "      <td>3</td>\n",
       "      <td>0</td>\n",
       "      <td>40.795020</td>\n",
       "      <td>-73.944250</td>\n",
       "      <td>POINT (-73.94425 40.79502)</td>\n",
       "      <td>2095</td>\n",
       "      <td>749</td>\n",
       "      <td>756.0</td>\n",
       "      <td>38090</td>\n",
       "    </tr>\n",
       "    <tr>\n",
       "      <th>3</th>\n",
       "      <td>2024-01-01 00:00:00</td>\n",
       "      <td>subway</td>\n",
       "      <td>162</td>\n",
       "      <td>50 St (C,E)</td>\n",
       "      <td>Manhattan</td>\n",
       "      <td>omny</td>\n",
       "      <td>OMNY - Seniors &amp; Disability</td>\n",
       "      <td>1</td>\n",
       "      <td>0</td>\n",
       "      <td>40.762455</td>\n",
       "      <td>-73.985985</td>\n",
       "      <td>POINT (-73.985985 40.762455)</td>\n",
       "      <td>2095</td>\n",
       "      <td>749</td>\n",
       "      <td>742.0</td>\n",
       "      <td>34097</td>\n",
       "    </tr>\n",
       "    <tr>\n",
       "      <th>4</th>\n",
       "      <td>2024-01-01 00:00:00</td>\n",
       "      <td>subway</td>\n",
       "      <td>403</td>\n",
       "      <td>33 St (6)</td>\n",
       "      <td>Manhattan</td>\n",
       "      <td>metrocard</td>\n",
       "      <td>Metrocard - Unlimited 30-Day</td>\n",
       "      <td>9</td>\n",
       "      <td>0</td>\n",
       "      <td>40.746082</td>\n",
       "      <td>-73.982080</td>\n",
       "      <td>POINT (-73.98208 40.746082)</td>\n",
       "      <td>2095</td>\n",
       "      <td>749</td>\n",
       "      <td>739.0</td>\n",
       "      <td>281182</td>\n",
       "    </tr>\n",
       "  </tbody>\n",
       "</table>\n",
       "</div>"
      ],
      "text/plain": [
       "     transit_timestamp transit_mode station_complex_id station_complex  \\\n",
       "0  2024-01-01 00:00:00       subway                404       28 St (6)   \n",
       "1  2024-01-01 00:00:00       subway                309      103 St (1)   \n",
       "2  2024-01-01 00:00:00       subway                394      110 St (6)   \n",
       "3  2024-01-01 00:00:00       subway                162     50 St (C,E)   \n",
       "4  2024-01-01 00:00:00       subway                403       33 St (6)   \n",
       "\n",
       "     borough payment_method           fare_class_category  ridership  \\\n",
       "0  Manhattan      metrocard         Metrocard - Fair Fare          8   \n",
       "1  Manhattan      metrocard         Metrocard - Fair Fare          3   \n",
       "2  Manhattan      metrocard             Metrocard - Other          3   \n",
       "3  Manhattan           omny   OMNY - Seniors & Disability          1   \n",
       "4  Manhattan      metrocard  Metrocard - Unlimited 30-Day          9   \n",
       "\n",
       "   transfers   Latitude  Longitude                  Georeference  Counties  \\\n",
       "0          0  40.743070 -73.984260    POINT (-73.98426 40.74307)      2095   \n",
       "1          0  40.799446 -73.968376  POINT (-73.968376 40.799446)      2095   \n",
       "2          0  40.795020 -73.944250    POINT (-73.94425 40.79502)      2095   \n",
       "3          0  40.762455 -73.985985  POINT (-73.985985 40.762455)      2095   \n",
       "4          0  40.746082 -73.982080   POINT (-73.98208 40.746082)      2095   \n",
       "\n",
       "   NYS Municipal Boundaries  New York Zip Codes  SegmentId  \n",
       "0                       749               739.0      33181  \n",
       "1                       749               752.0      38133  \n",
       "2                       749               756.0      38090  \n",
       "3                       749               742.0      34097  \n",
       "4                       749               739.0     281182  "
      ]
     },
     "execution_count": 30,
     "metadata": {},
     "output_type": "execute_result"
    }
   ],
   "source": [
    "check_df = pd.read_csv(transit_csv)\n",
    "check_df.head()"
   ]
  }
 ],
 "metadata": {
  "kernelspec": {
   "display_name": "comp30830",
   "language": "python",
   "name": "python3"
  },
  "language_info": {
   "codemirror_mode": {
    "name": "ipython",
    "version": 3
   },
   "file_extension": ".py",
   "mimetype": "text/x-python",
   "name": "python",
   "nbconvert_exporter": "python",
   "pygments_lexer": "ipython3",
   "version": "3.11.6"
  }
 },
 "nbformat": 4,
 "nbformat_minor": 2
}
