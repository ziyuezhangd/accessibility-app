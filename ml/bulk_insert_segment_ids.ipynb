{
 "cells": [
  {
   "cell_type": "markdown",
   "metadata": {},
   "source": [
    "# Bulk inserting segment Ids\n",
    "This notebook handles the translation of latitude/longitude columns within a dataset to their nearest segment ID. This is a very compute-intensive operation which should only need to be run one time on any given dataset."
   ]
  },
  {
   "cell_type": "code",
   "execution_count": 4,
   "metadata": {},
   "outputs": [],
   "source": [
    "import pandas as pd\n",
    "import requests\n",
    "from zipfile import ZipFile as zzip\n",
    "import fiona\n",
    "import geopandas as gpd\n",
    "from shapely.geometry import Point\n",
    "import json"
   ]
  },
  {
   "cell_type": "code",
   "execution_count": 5,
   "metadata": {},
   "outputs": [],
   "source": [
    "LION_ZIP_DIR = \"input_data/nyclion_19b.zip\"\n",
    "GDB_FILE = r\"input_data/lion/lion.gdb\"\n",
    "OUTPUT_DIR = \"output/\""
   ]
  },
  {
   "cell_type": "markdown",
   "metadata": {},
   "source": [
    "## Download LION data"
   ]
  },
  {
   "cell_type": "code",
   "execution_count": null,
   "metadata": {},
   "outputs": [],
   "source": [
    "# Download and store lion files\n",
    "url = r\"https://www1.nyc.gov/assets/planning/download/zip/data-maps/open-data/nyclion_19b.zip\"\n",
    "\n",
    "# download the file contents in binary format\n",
    "r = requests.get(url)\n",
    "# open method to open a file on your system and write the contents\n",
    "with open(LION_ZIP_DIR, \"wb\") as file:\n",
    "    file.write(r.content)\n",
    "\n",
    "# opening the zip file in READ mode\n",
    "with zzip(LION_ZIP_DIR, 'r') as file:\n",
    "    # printing all the contents of the zip file\n",
    "    file.printdir()\n",
    "\n",
    "    # extracting all the files\n",
    "    file.extractall(\"input_data/\")\n",
    "    print('Done!')"
   ]
  },
  {
   "cell_type": "code",
   "execution_count": 6,
   "metadata": {},
   "outputs": [
    {
     "name": "stdout",
     "output_type": "stream",
     "text": [
      "['node', 'node_stname', 'altnames', 'lion']\n"
     ]
    }
   ],
   "source": [
    "layers = fiona.listlayers(GDB_FILE)\n",
    "print(layers)"
   ]
  },
  {
   "cell_type": "code",
   "execution_count": 7,
   "metadata": {},
   "outputs": [],
   "source": [
    "lion_gdf = gpd.read_file(GDB_FILE, engine='pyogrio', layer='lion')"
   ]
  },
  {
   "cell_type": "code",
   "execution_count": 8,
   "metadata": {},
   "outputs": [
    {
     "name": "stdout",
     "output_type": "stream",
     "text": [
      "Before:  226977\n",
      "After:  32966\n"
     ]
    }
   ],
   "source": [
    "# Remove rows outside of manhattan just to clean up and speed up operations\n",
    "print(\"Before: \", len(lion_gdf.index))\n",
    "lion_gdf = lion_gdf[lion_gdf.LBoro == 1]\n",
    "print(\"After: \", len(lion_gdf.index))"
   ]
  },
  {
   "cell_type": "code",
   "execution_count": 9,
   "metadata": {},
   "outputs": [],
   "source": [
    "def get_segment_id_from_coords(lat, lng):\n",
    "    point = Point(lng, lat)\n",
    "    if lion_gdf.crs.is_geographic:\n",
    "        point_gdf = gpd.GeoDataFrame([{'geometry': point}], crs=lion_gdf.crs)\n",
    "    else:\n",
    "        point_gdf = gpd.GeoDataFrame([{'geometry': point}], crs=\"EPSG:4326\").to_crs(lion_gdf.crs)\n",
    "    \n",
    "    lion_gdf['distance'] = lion_gdf.geometry.distance(point_gdf.iloc[0].geometry)\n",
    "    nearest_segment = lion_gdf.loc[lion_gdf['distance'].idxmin()]\n",
    "    segment_id = nearest_segment['SegmentID']\n",
    "    return segment_id"
   ]
  },
  {
   "cell_type": "code",
   "execution_count": 10,
   "metadata": {},
   "outputs": [
    {
     "data": {
      "text/plain": [
       "'0297696'"
      ]
     },
     "execution_count": 10,
     "metadata": {},
     "output_type": "execute_result"
    }
   ],
   "source": [
    "# Quick test\n",
    "get_segment_id_from_coords(40.748433, -73.985656)"
   ]
  },
  {
   "cell_type": "code",
   "execution_count": 11,
   "metadata": {},
   "outputs": [],
   "source": [
    "def load_segment_ids():\n",
    "    new_segment_ids = {}\n",
    "    # Opening JSON file\n",
    "    f = open(f\"{OUTPUT_DIR}/segment_id_dict.json\")\n",
    "    data = json.load(f)\n",
    "    for key in data.keys():\n",
    "        coordinates_tuple = tuple(map(float, key.split(',')))\n",
    "        new_segment_ids[coordinates_tuple] = data[key]\n",
    "\n",
    "    return new_segment_ids"
   ]
  },
  {
   "cell_type": "code",
   "execution_count": 12,
   "metadata": {},
   "outputs": [],
   "source": [
    "segment_ids = load_segment_ids()"
   ]
  },
  {
   "cell_type": "code",
   "execution_count": 13,
   "metadata": {},
   "outputs": [
    {
     "name": "stdout",
     "output_type": "stream",
     "text": [
      "[(40.74307, -73.98426), (40.799446, -73.968376), (40.79502, -73.94425), (40.762455, -73.985985)]\n",
      "['0033181', '0038133', '0038090', '0034097']\n"
     ]
    }
   ],
   "source": [
    "print(list(segment_ids.keys())[:4])\n",
    "print(list(segment_ids.values())[:4])"
   ]
  },
  {
   "cell_type": "code",
   "execution_count": 25,
   "metadata": {},
   "outputs": [],
   "source": [
    "def add_segment_id_column(df):\n",
    "    global segment_ids\n",
    "    updated_coordinates = []\n",
    "    for idx, row in df.iterrows():\n",
    "        try:\n",
    "            lat = row['Latitude']\n",
    "            lng = row['Longitude']\n",
    "            if (lat, lng) not in updated_coordinates: # Need to update this column\n",
    "                if (lat, lng) not in segment_ids.keys(): # Need to calculate\n",
    "                    print(f'Calculating segment for ({lat}, {lng})')\n",
    "                    segment_id = get_segment_id_from_coords(lat, lng)\n",
    "                    segment_ids[(lat, lng)] = segment_id\n",
    "                else: # We can pull from our dict\n",
    "                    segment_id = segment_ids[(lat, lng)]\n",
    "                matching_rows = df[(df.Latitude == lat) & (df.Longitude == lng)]\n",
    "                print(f'Updating: {len(matching_rows)}')\n",
    "                df.loc[(df.Latitude == lat) & (df.Longitude == lng), 'SegmentId'] = segment_id\n",
    "                \n",
    "                rows_left = df['SegmentId'].isnull().sum()\n",
    "                print(f'Rows left: {rows_left}')\n",
    "                updated_coordinates.append((lat, lng))\n",
    "\n",
    "                if rows_left == 0:\n",
    "                    return\n",
    "            else:\n",
    "                # Any seg\n",
    "                pass\n",
    "        except:\n",
    "            print(f\"Unable to translate ({lat}, {lng}), skipping\")"
   ]
  },
  {
   "cell_type": "code",
   "execution_count": 15,
   "metadata": {},
   "outputs": [],
   "source": [
    "SUBWAY_DATA = \"input_data/MTA_Subway_Hourly_Ridership_20240607.csv\"\n",
    "BIKE_DATA_1 = \"input_data/202401-citibike-tripdata_1.csv\"\n",
    "BIKE_DATA_2 = \"input_data/202401-citibike-tripdata_2.csv\""
   ]
  },
  {
   "cell_type": "code",
   "execution_count": 21,
   "metadata": {},
   "outputs": [],
   "source": [
    "df_transit = pd.read_csv(SUBWAY_DATA)"
   ]
  },
  {
   "cell_type": "code",
   "execution_count": 22,
   "metadata": {},
   "outputs": [
    {
     "name": "stdout",
     "output_type": "stream",
     "text": [
      "<class 'pandas.core.frame.DataFrame'>\n",
      "RangeIndex: 1987659 entries, 0 to 1987658\n",
      "Data columns (total 16 columns):\n",
      " #   Column                    Dtype  \n",
      "---  ------                    -----  \n",
      " 0   transit_timestamp         object \n",
      " 1   transit_mode              object \n",
      " 2   station_complex_id        object \n",
      " 3   station_complex           object \n",
      " 4   borough                   object \n",
      " 5   payment_method            object \n",
      " 6   fare_class_category       object \n",
      " 7   ridership                 int64  \n",
      " 8   transfers                 int64  \n",
      " 9   Latitude                  float64\n",
      " 10  Longitude                 float64\n",
      " 11  Georeference              object \n",
      " 12  Counties                  int64  \n",
      " 13  NYS Municipal Boundaries  int64  \n",
      " 14  New York Zip Codes        float64\n",
      " 15  SegmentId                 object \n",
      "dtypes: float64(3), int64(4), object(9)\n",
      "memory usage: 242.6+ MB\n"
     ]
    }
   ],
   "source": [
    "df_transit.columns\n",
    "df_transit = df_transit[df_transit.borough == 'Manhattan']\n",
    "df_transit.rename(columns={'latitude': 'Latitude', 'longitude': 'Longitude'}, inplace=True)\n",
    "df_transit['SegmentId'] = None\n",
    "\n",
    "df_transit.info()"
   ]
  },
  {
   "cell_type": "code",
   "execution_count": 23,
   "metadata": {},
   "outputs": [
    {
     "name": "stdout",
     "output_type": "stream",
     "text": [
      "Expected length of segment ids:  161\n",
      "Actual:  6635\n"
     ]
    }
   ],
   "source": [
    "uniq = df_transit.drop_duplicates(subset=['Latitude', 'Longitude'])\n",
    "print(\"Expected length of segment ids: \", len(uniq))\n",
    "print(\"Actual: \", len(segment_ids))"
   ]
  },
  {
   "cell_type": "code",
   "execution_count": 24,
   "metadata": {},
   "outputs": [
    {
     "name": "stdout",
     "output_type": "stream",
     "text": [
      "Updating: 16920\n",
      "Rows left: 1970739\n",
      "Updating: 16361\n",
      "Rows left: 1954378\n",
      "Updating: 15972\n",
      "Rows left: 1938406\n",
      "Updating: 17270\n",
      "Rows left: 1921136\n",
      "Updating: 17133\n",
      "Rows left: 1904003\n",
      "Updating: 8483\n",
      "Rows left: 1895520\n",
      "Updating: 15828\n",
      "Rows left: 1879692\n",
      "Updating: 16835\n",
      "Rows left: 1862857\n",
      "Updating: 15830\n",
      "Rows left: 1847027\n",
      "Updating: 15609\n",
      "Rows left: 1831418\n",
      "Updating: 15753\n",
      "Rows left: 1815665\n",
      "Updating: 16676\n",
      "Rows left: 1798989\n",
      "Updating: 16800\n",
      "Rows left: 1782189\n",
      "Updating: 17805\n",
      "Rows left: 1764384\n",
      "Updating: 17283\n",
      "Rows left: 1747101\n",
      "Updating: 16851\n",
      "Rows left: 1730250\n",
      "Updating: 16396\n",
      "Rows left: 1713854\n",
      "Updating: 15519\n",
      "Rows left: 1698335\n",
      "Updating: 15606\n",
      "Rows left: 1682729\n",
      "Updating: 16644\n",
      "Rows left: 1666085\n",
      "Updating: 18480\n",
      "Rows left: 1647605\n",
      "Updating: 17319\n",
      "Rows left: 1630286\n",
      "Updating: 14792\n",
      "Rows left: 1615494\n",
      "Updating: 17085\n",
      "Rows left: 1598409\n",
      "Updating: 13812\n",
      "Rows left: 1584597\n",
      "Updating: 17723\n",
      "Rows left: 1566874\n",
      "Updating: 15036\n",
      "Rows left: 1551838\n",
      "Updating: 15577\n",
      "Rows left: 1536261\n",
      "Updating: 13680\n",
      "Rows left: 1522581\n",
      "Updating: 15551\n",
      "Rows left: 1507030\n",
      "Updating: 14969\n",
      "Rows left: 1492061\n",
      "Updating: 15864\n",
      "Rows left: 1476197\n",
      "Updating: 16604\n",
      "Rows left: 1459593\n",
      "Updating: 17252\n",
      "Rows left: 1442341\n",
      "Updating: 18267\n",
      "Rows left: 1424074\n",
      "Updating: 17008\n",
      "Rows left: 1407066\n",
      "Updating: 17517\n",
      "Rows left: 1389549\n",
      "Updating: 15276\n",
      "Rows left: 1374273\n",
      "Updating: 16582\n",
      "Rows left: 1357691\n",
      "Updating: 16822\n",
      "Rows left: 1340869\n",
      "Updating: 16505\n",
      "Rows left: 1324364\n",
      "Updating: 15953\n",
      "Rows left: 1308411\n",
      "Updating: 15094\n",
      "Rows left: 1293317\n",
      "Updating: 16774\n",
      "Rows left: 1276543\n",
      "Updating: 16960\n",
      "Rows left: 1259583\n",
      "Updating: 16184\n",
      "Rows left: 1243399\n",
      "Updating: 16324\n",
      "Rows left: 1227075\n",
      "Updating: 16439\n",
      "Rows left: 1210636\n",
      "Updating: 15737\n",
      "Rows left: 1194899\n",
      "Updating: 16474\n",
      "Rows left: 1178425\n",
      "Updating: 14708\n",
      "Rows left: 1163717\n",
      "Updating: 18083\n",
      "Rows left: 1145634\n",
      "Updating: 18092\n",
      "Rows left: 1127542\n",
      "Updating: 14097\n",
      "Rows left: 1113445\n",
      "Updating: 13767\n",
      "Rows left: 1099678\n",
      "Updating: 15639\n",
      "Rows left: 1084039\n",
      "Updating: 15517\n",
      "Rows left: 1068522\n",
      "Updating: 17451\n",
      "Rows left: 1051071\n",
      "Updating: 14277\n",
      "Rows left: 1036794\n",
      "Updating: 16289\n",
      "Rows left: 1020505\n",
      "Updating: 16151\n",
      "Rows left: 1004354\n",
      "Updating: 13388\n",
      "Rows left: 990966\n",
      "Updating: 17136\n",
      "Rows left: 973830\n",
      "Updating: 700\n",
      "Rows left: 973130\n",
      "Updating: 16532\n",
      "Rows left: 956598\n",
      "Updating: 16779\n",
      "Rows left: 939819\n",
      "Updating: 13110\n",
      "Rows left: 926709\n",
      "Updating: 18809\n",
      "Rows left: 907900\n",
      "Updating: 14361\n",
      "Rows left: 893539\n",
      "Updating: 16020\n",
      "Rows left: 877519\n",
      "Updating: 15235\n",
      "Rows left: 862284\n",
      "Updating: 15061\n",
      "Rows left: 847223\n",
      "Updating: 17255\n",
      "Rows left: 829968\n",
      "Updating: 15306\n",
      "Rows left: 814662\n",
      "Updating: 16073\n",
      "Rows left: 798589\n",
      "Updating: 2309\n",
      "Rows left: 796280\n",
      "Updating: 15967\n",
      "Rows left: 780313\n",
      "Updating: 15159\n",
      "Rows left: 765154\n",
      "Updating: 17013\n",
      "Rows left: 748141\n",
      "Updating: 14861\n",
      "Rows left: 733280\n",
      "Updating: 17003\n",
      "Rows left: 716277\n",
      "Updating: 15119\n",
      "Rows left: 701158\n",
      "Updating: 17663\n",
      "Rows left: 683495\n",
      "Updating: 16590\n",
      "Rows left: 666905\n",
      "Updating: 16894\n",
      "Rows left: 650011\n",
      "Updating: 15048\n",
      "Rows left: 634963\n",
      "Updating: 13383\n",
      "Rows left: 621580\n",
      "Updating: 16444\n",
      "Rows left: 605136\n",
      "Updating: 15667\n",
      "Rows left: 589469\n",
      "Updating: 16516\n",
      "Rows left: 572953\n",
      "Updating: 14755\n",
      "Rows left: 558198\n",
      "Updating: 16003\n",
      "Rows left: 542195\n",
      "Updating: 1492\n",
      "Rows left: 540703\n",
      "Updating: 15837\n",
      "Rows left: 524866\n",
      "Updating: 13651\n",
      "Rows left: 511215\n",
      "Updating: 15587\n",
      "Rows left: 495628\n",
      "Updating: 14202\n",
      "Rows left: 481426\n",
      "Updating: 16218\n",
      "Rows left: 465208\n",
      "Updating: 15293\n",
      "Rows left: 449915\n",
      "Updating: 15800\n",
      "Rows left: 434115\n",
      "Updating: 16041\n",
      "Rows left: 418074\n",
      "Updating: 17722\n",
      "Rows left: 400352\n",
      "Updating: 12993\n",
      "Rows left: 387359\n",
      "Updating: 15848\n",
      "Rows left: 371511\n",
      "Updating: 18799\n",
      "Rows left: 352712\n",
      "Updating: 16673\n",
      "Rows left: 336039\n",
      "Updating: 15192\n",
      "Rows left: 320847\n",
      "Updating: 15858\n",
      "Rows left: 304989\n",
      "Updating: 16233\n",
      "Rows left: 288756\n",
      "Updating: 15547\n",
      "Rows left: 273209\n",
      "Updating: 17432\n",
      "Rows left: 255777\n",
      "Updating: 16393\n",
      "Rows left: 239384\n",
      "Updating: 16263\n",
      "Rows left: 223121\n",
      "Updating: 13384\n",
      "Rows left: 209737\n",
      "Updating: 15313\n",
      "Rows left: 194424\n",
      "Updating: 14282\n",
      "Rows left: 180142\n",
      "Updating: 16499\n",
      "Rows left: 163643\n",
      "Updating: 15250\n",
      "Rows left: 148393\n",
      "Updating: 16636\n",
      "Rows left: 131757\n",
      "Updating: 16698\n",
      "Rows left: 115059\n",
      "Updating: 16341\n",
      "Rows left: 98718\n",
      "Updating: 16957\n",
      "Rows left: 81761\n",
      "Updating: 14000\n",
      "Rows left: 67761\n",
      "Updating: 17484\n",
      "Rows left: 50277\n",
      "Updating: 1727\n",
      "Rows left: 48550\n",
      "Updating: 750\n",
      "Rows left: 47800\n",
      "Updating: 15926\n",
      "Rows left: 31874\n",
      "Updating: 1708\n",
      "Rows left: 30166\n",
      "Updating: 215\n",
      "Rows left: 29951\n",
      "Updating: 581\n",
      "Rows left: 29370\n",
      "Updating: 522\n",
      "Rows left: 28848\n",
      "Updating: 1267\n",
      "Rows left: 27581\n",
      "Updating: 404\n",
      "Rows left: 27177\n",
      "Updating: 623\n",
      "Rows left: 26554\n",
      "Updating: 594\n",
      "Rows left: 25960\n",
      "Updating: 604\n",
      "Rows left: 25356\n",
      "Updating: 1681\n",
      "Rows left: 23675\n",
      "Updating: 922\n",
      "Rows left: 22753\n",
      "Updating: 482\n",
      "Rows left: 22271\n",
      "Updating: 1670\n",
      "Rows left: 20601\n",
      "Updating: 2304\n",
      "Rows left: 18297\n",
      "Updating: 929\n",
      "Rows left: 17368\n",
      "Updating: 655\n",
      "Rows left: 16713\n",
      "Updating: 923\n",
      "Rows left: 15790\n",
      "Updating: 86\n",
      "Rows left: 15704\n",
      "Updating: 249\n",
      "Rows left: 15455\n",
      "Updating: 303\n",
      "Rows left: 15152\n",
      "Updating: 562\n",
      "Rows left: 14590\n",
      "Updating: 112\n",
      "Rows left: 14478\n",
      "Updating: 12103\n",
      "Rows left: 2375\n",
      "Updating: 478\n",
      "Rows left: 1897\n",
      "Updating: 354\n",
      "Rows left: 1543\n",
      "Updating: 445\n",
      "Rows left: 1098\n",
      "Updating: 323\n",
      "Rows left: 775\n",
      "Updating: 231\n",
      "Rows left: 544\n",
      "Updating: 214\n",
      "Rows left: 330\n",
      "Updating: 205\n",
      "Rows left: 125\n",
      "Updating: 32\n",
      "Rows left: 93\n",
      "Updating: 24\n",
      "Rows left: 69\n",
      "Updating: 35\n",
      "Rows left: 34\n",
      "Updating: 34\n",
      "Rows left: 0\n"
     ]
    }
   ],
   "source": [
    "add_segment_id_column(df_transit)"
   ]
  },
  {
   "cell_type": "code",
   "execution_count": 26,
   "metadata": {},
   "outputs": [
    {
     "data": {
      "text/html": [
       "<div>\n",
       "<style scoped>\n",
       "    .dataframe tbody tr th:only-of-type {\n",
       "        vertical-align: middle;\n",
       "    }\n",
       "\n",
       "    .dataframe tbody tr th {\n",
       "        vertical-align: top;\n",
       "    }\n",
       "\n",
       "    .dataframe thead th {\n",
       "        text-align: right;\n",
       "    }\n",
       "</style>\n",
       "<table border=\"1\" class=\"dataframe\">\n",
       "  <thead>\n",
       "    <tr style=\"text-align: right;\">\n",
       "      <th></th>\n",
       "      <th>transit_timestamp</th>\n",
       "      <th>transit_mode</th>\n",
       "      <th>station_complex_id</th>\n",
       "      <th>station_complex</th>\n",
       "      <th>borough</th>\n",
       "      <th>payment_method</th>\n",
       "      <th>fare_class_category</th>\n",
       "      <th>ridership</th>\n",
       "      <th>transfers</th>\n",
       "      <th>Latitude</th>\n",
       "      <th>Longitude</th>\n",
       "      <th>Georeference</th>\n",
       "      <th>Counties</th>\n",
       "      <th>NYS Municipal Boundaries</th>\n",
       "      <th>New York Zip Codes</th>\n",
       "      <th>SegmentId</th>\n",
       "    </tr>\n",
       "  </thead>\n",
       "  <tbody>\n",
       "    <tr>\n",
       "      <th>0</th>\n",
       "      <td>01/01/2024 12:00:00 AM</td>\n",
       "      <td>subway</td>\n",
       "      <td>404</td>\n",
       "      <td>28 St (6)</td>\n",
       "      <td>Manhattan</td>\n",
       "      <td>metrocard</td>\n",
       "      <td>Metrocard - Fair Fare</td>\n",
       "      <td>8</td>\n",
       "      <td>0</td>\n",
       "      <td>40.743070</td>\n",
       "      <td>-73.984260</td>\n",
       "      <td>POINT (-73.98426 40.74307)</td>\n",
       "      <td>2095</td>\n",
       "      <td>749</td>\n",
       "      <td>739.0</td>\n",
       "      <td>0033181</td>\n",
       "    </tr>\n",
       "    <tr>\n",
       "      <th>1</th>\n",
       "      <td>01/01/2024 12:00:00 AM</td>\n",
       "      <td>subway</td>\n",
       "      <td>309</td>\n",
       "      <td>103 St (1)</td>\n",
       "      <td>Manhattan</td>\n",
       "      <td>metrocard</td>\n",
       "      <td>Metrocard - Fair Fare</td>\n",
       "      <td>3</td>\n",
       "      <td>0</td>\n",
       "      <td>40.799446</td>\n",
       "      <td>-73.968376</td>\n",
       "      <td>POINT (-73.968376 40.799446)</td>\n",
       "      <td>2095</td>\n",
       "      <td>749</td>\n",
       "      <td>752.0</td>\n",
       "      <td>0038133</td>\n",
       "    </tr>\n",
       "    <tr>\n",
       "      <th>2</th>\n",
       "      <td>01/01/2024 12:00:00 AM</td>\n",
       "      <td>subway</td>\n",
       "      <td>394</td>\n",
       "      <td>110 St (6)</td>\n",
       "      <td>Manhattan</td>\n",
       "      <td>metrocard</td>\n",
       "      <td>Metrocard - Other</td>\n",
       "      <td>3</td>\n",
       "      <td>0</td>\n",
       "      <td>40.795020</td>\n",
       "      <td>-73.944250</td>\n",
       "      <td>POINT (-73.94425 40.79502)</td>\n",
       "      <td>2095</td>\n",
       "      <td>749</td>\n",
       "      <td>756.0</td>\n",
       "      <td>0038090</td>\n",
       "    </tr>\n",
       "    <tr>\n",
       "      <th>3</th>\n",
       "      <td>01/01/2024 12:00:00 AM</td>\n",
       "      <td>subway</td>\n",
       "      <td>162</td>\n",
       "      <td>50 St (C,E)</td>\n",
       "      <td>Manhattan</td>\n",
       "      <td>omny</td>\n",
       "      <td>OMNY - Seniors &amp; Disability</td>\n",
       "      <td>1</td>\n",
       "      <td>0</td>\n",
       "      <td>40.762455</td>\n",
       "      <td>-73.985985</td>\n",
       "      <td>POINT (-73.985985 40.762455)</td>\n",
       "      <td>2095</td>\n",
       "      <td>749</td>\n",
       "      <td>742.0</td>\n",
       "      <td>0034097</td>\n",
       "    </tr>\n",
       "    <tr>\n",
       "      <th>4</th>\n",
       "      <td>01/01/2024 12:00:00 AM</td>\n",
       "      <td>subway</td>\n",
       "      <td>403</td>\n",
       "      <td>33 St (6)</td>\n",
       "      <td>Manhattan</td>\n",
       "      <td>metrocard</td>\n",
       "      <td>Metrocard - Unlimited 30-Day</td>\n",
       "      <td>9</td>\n",
       "      <td>0</td>\n",
       "      <td>40.746082</td>\n",
       "      <td>-73.982080</td>\n",
       "      <td>POINT (-73.98208 40.746082)</td>\n",
       "      <td>2095</td>\n",
       "      <td>749</td>\n",
       "      <td>739.0</td>\n",
       "      <td>0281182</td>\n",
       "    </tr>\n",
       "  </tbody>\n",
       "</table>\n",
       "</div>"
      ],
      "text/plain": [
       "        transit_timestamp transit_mode station_complex_id station_complex  \\\n",
       "0  01/01/2024 12:00:00 AM       subway                404       28 St (6)   \n",
       "1  01/01/2024 12:00:00 AM       subway                309      103 St (1)   \n",
       "2  01/01/2024 12:00:00 AM       subway                394      110 St (6)   \n",
       "3  01/01/2024 12:00:00 AM       subway                162     50 St (C,E)   \n",
       "4  01/01/2024 12:00:00 AM       subway                403       33 St (6)   \n",
       "\n",
       "     borough payment_method           fare_class_category  ridership  \\\n",
       "0  Manhattan      metrocard         Metrocard - Fair Fare          8   \n",
       "1  Manhattan      metrocard         Metrocard - Fair Fare          3   \n",
       "2  Manhattan      metrocard             Metrocard - Other          3   \n",
       "3  Manhattan           omny   OMNY - Seniors & Disability          1   \n",
       "4  Manhattan      metrocard  Metrocard - Unlimited 30-Day          9   \n",
       "\n",
       "   transfers   Latitude  Longitude                  Georeference  Counties  \\\n",
       "0          0  40.743070 -73.984260    POINT (-73.98426 40.74307)      2095   \n",
       "1          0  40.799446 -73.968376  POINT (-73.968376 40.799446)      2095   \n",
       "2          0  40.795020 -73.944250    POINT (-73.94425 40.79502)      2095   \n",
       "3          0  40.762455 -73.985985  POINT (-73.985985 40.762455)      2095   \n",
       "4          0  40.746082 -73.982080   POINT (-73.98208 40.746082)      2095   \n",
       "\n",
       "   NYS Municipal Boundaries  New York Zip Codes SegmentId  \n",
       "0                       749               739.0   0033181  \n",
       "1                       749               752.0   0038133  \n",
       "2                       749               756.0   0038090  \n",
       "3                       749               742.0   0034097  \n",
       "4                       749               739.0   0281182  "
      ]
     },
     "execution_count": 26,
     "metadata": {},
     "output_type": "execute_result"
    }
   ],
   "source": [
    "df_transit.head()"
   ]
  },
  {
   "cell_type": "code",
   "execution_count": 27,
   "metadata": {},
   "outputs": [
    {
     "name": "stdout",
     "output_type": "stream",
     "text": [
      "Minimum start date: 2024-01-01 00:00:00\n",
      "Maximum start date: 2024-03-31 23:00:00\n"
     ]
    },
    {
     "name": "stderr",
     "output_type": "stream",
     "text": [
      "/var/folders/k2/s9j0wvg542n0d4_0n5lwnp140000gn/T/ipykernel_24199/820701446.py:1: UserWarning: Could not infer format, so each element will be parsed individually, falling back to `dateutil`. To ensure parsing is consistent and as-expected, please specify a format.\n",
      "  df_transit['transit_timestamp'] = pd.to_datetime(df_transit['transit_timestamp'])\n"
     ]
    }
   ],
   "source": [
    "df_transit['transit_timestamp'] = pd.to_datetime(df_transit['transit_timestamp'])\n",
    "min_start_date = df_transit['transit_timestamp'].min()\n",
    "max_start_date = df_transit['transit_timestamp'].max()\n",
    "\n",
    "print(f\"Minimum start date: {min_start_date}\")\n",
    "print(f\"Maximum start date: {max_start_date}\")"
   ]
  },
  {
   "cell_type": "markdown",
   "metadata": {},
   "source": [
    "## Add column to bike data"
   ]
  },
  {
   "cell_type": "code",
   "execution_count": 68,
   "metadata": {},
   "outputs": [],
   "source": [
    "df_bike_1 = pd.read_csv(BIKE_DATA_1, dtype={\"start_station_id\": str})\n",
    "df_bike_2 = pd.read_csv(BIKE_DATA_2, dtype={\"start_station_id\": str, \"end_station_id\": str})"
   ]
  },
  {
   "cell_type": "code",
   "execution_count": 72,
   "metadata": {},
   "outputs": [],
   "source": [
    "df_bike = pd.concat([df_bike_1, df_bike_2], ignore_index=True)"
   ]
  },
  {
   "cell_type": "code",
   "execution_count": 73,
   "metadata": {},
   "outputs": [
    {
     "name": "stdout",
     "output_type": "stream",
     "text": [
      "<class 'pandas.core.frame.DataFrame'>\n",
      "RangeIndex: 1954376 entries, 0 to 1954375\n",
      "Data columns (total 13 columns):\n",
      " #   Column              Dtype  \n",
      "---  ------              -----  \n",
      " 0   ride_id             object \n",
      " 1   rideable_type       object \n",
      " 2   started_at          object \n",
      " 3   ended_at            object \n",
      " 4   start_station_name  object \n",
      " 5   start_station_id    object \n",
      " 6   end_station_name    object \n",
      " 7   end_station_id      object \n",
      " 8   start_lat           float64\n",
      " 9   start_lng           float64\n",
      " 10  end_lat             float64\n",
      " 11  end_lng             float64\n",
      " 12  member_casual       object \n",
      "dtypes: float64(4), object(9)\n",
      "memory usage: 193.8+ MB\n"
     ]
    }
   ],
   "source": [
    "df_bike.info()"
   ]
  },
  {
   "cell_type": "code",
   "execution_count": 74,
   "metadata": {},
   "outputs": [
    {
     "name": "stdout",
     "output_type": "stream",
     "text": [
      "Minimum start date: 2024-01-01 00:00:03\n",
      "Maximum start date: 2024-01-31 23:59:59\n"
     ]
    }
   ],
   "source": [
    "df_bike['started_at'] = pd.to_datetime(df_bike['started_at'])\n",
    "min_start_date = df_bike['started_at'].min()\n",
    "max_start_date = df_bike['started_at'].max()\n",
    "\n",
    "print(f\"Minimum start date: {min_start_date}\")\n",
    "print(f\"Maximum start date: {max_start_date}\")"
   ]
  },
  {
   "cell_type": "code",
   "execution_count": 77,
   "metadata": {},
   "outputs": [],
   "source": [
    "df_bike_new = pd.DataFrame()\n",
    "df_bike['started_at'] = pd.to_datetime(df_bike['started_at'])\n",
    "df_bike['ended_at'] = pd.to_datetime(df_bike['ended_at'])\n",
    "\n",
    "df_bike_new['Timestamp'] = pd.concat([df_bike['started_at'], df_bike['ended_at']], ignore_index=True)\n",
    "df_bike_new['Timestamp'] = pd.to_datetime(df_bike_new['Timestamp'])\n",
    "df_bike_new['Timestamp_Rounded'] = df_bike_new['Timestamp'].dt.round(\"h\")\n",
    "df_bike_new['Latitude'] = pd.concat([df_bike['start_lat'], df_bike['end_lat']], ignore_index=True)\n",
    "df_bike_new['Longitude'] = pd.concat([df_bike['start_lng'], df_bike['end_lng']], ignore_index=True)\n",
    "\n",
    "# Round the lat/lngs\n",
    "df_bike_new['Latitude'] = df_bike_new['Latitude'].round(3)\n",
    "df_bike_new['Longitude'] = df_bike_new['Longitude'].round(3)"
   ]
  },
  {
   "cell_type": "code",
   "execution_count": 79,
   "metadata": {},
   "outputs": [
    {
     "name": "stdout",
     "output_type": "stream",
     "text": [
      "Unique lat/long:  6475\n",
      "Unique lat/long/time:  926827\n"
     ]
    }
   ],
   "source": [
    "print(\"Unique lat/long: \", len(df_bike_new.drop_duplicates(subset=['Latitude', 'Longitude'])))\n",
    "print(\"Unique lat/long/time: \", len(df_bike_new.drop_duplicates(subset=['Latitude', 'Longitude', 'Timestamp_Rounded'])))"
   ]
  },
  {
   "cell_type": "code",
   "execution_count": 81,
   "metadata": {},
   "outputs": [
    {
     "name": "stdout",
     "output_type": "stream",
     "text": [
      "Expected length of segment ids:  6636\n",
      "Actual:  161\n"
     ]
    }
   ],
   "source": [
    "uniq = df_bike_new.drop_duplicates(subset=['Latitude', 'Longitude'])\n",
    "print(\"Expected length of segment ids: \", len(segment_ids) + len(uniq))\n",
    "print(\"Actual: \", len(segment_ids))"
   ]
  },
  {
   "cell_type": "code",
   "execution_count": 84,
   "metadata": {},
   "outputs": [
    {
     "name": "stdout",
     "output_type": "stream",
     "text": [
      "Broke up bike into 39088 chunks\n"
     ]
    }
   ],
   "source": [
    "# Split up DF into chunks to be pooled\n",
    "chunk_size = 100\n",
    "num_chunks = len(df_bike_new) // chunk_size + (len(df_bike_new) % chunk_size > 0)\n",
    "chunks = [df_bike_new.iloc[i * chunk_size:(i + 1) * chunk_size] for i in range(num_chunks)]\n",
    "print(f\"Broke up bike into {len(chunks)} chunks\")"
   ]
  },
  {
   "cell_type": "code",
   "execution_count": null,
   "metadata": {},
   "outputs": [],
   "source": [
    "add_segment_id_column(df_bike_new)"
   ]
  },
  {
   "cell_type": "code",
   "execution_count": 116,
   "metadata": {},
   "outputs": [
    {
     "name": "stdout",
     "output_type": "stream",
     "text": [
      "Length of segment ids:  6635\n"
     ]
    },
    {
     "data": {
      "text/html": [
       "<div>\n",
       "<style scoped>\n",
       "    .dataframe tbody tr th:only-of-type {\n",
       "        vertical-align: middle;\n",
       "    }\n",
       "\n",
       "    .dataframe tbody tr th {\n",
       "        vertical-align: top;\n",
       "    }\n",
       "\n",
       "    .dataframe thead th {\n",
       "        text-align: right;\n",
       "    }\n",
       "</style>\n",
       "<table border=\"1\" class=\"dataframe\">\n",
       "  <thead>\n",
       "    <tr style=\"text-align: right;\">\n",
       "      <th></th>\n",
       "      <th>Timestamp</th>\n",
       "      <th>Timestamp_Rounded</th>\n",
       "      <th>Latitude</th>\n",
       "      <th>Longitude</th>\n",
       "      <th>SegmentId</th>\n",
       "    </tr>\n",
       "  </thead>\n",
       "  <tbody>\n",
       "    <tr>\n",
       "      <th>0</th>\n",
       "      <td>2024-01-25 20:39:09</td>\n",
       "      <td>2024-01-25 21:00:00</td>\n",
       "      <td>40.735</td>\n",
       "      <td>-73.991</td>\n",
       "      <td>0032805</td>\n",
       "    </tr>\n",
       "    <tr>\n",
       "      <th>1</th>\n",
       "      <td>2024-01-15 18:44:36</td>\n",
       "      <td>2024-01-15 19:00:00</td>\n",
       "      <td>40.735</td>\n",
       "      <td>-73.988</td>\n",
       "      <td>0032949</td>\n",
       "    </tr>\n",
       "    <tr>\n",
       "      <th>2</th>\n",
       "      <td>2024-01-03 19:27:58</td>\n",
       "      <td>2024-01-03 19:00:00</td>\n",
       "      <td>40.735</td>\n",
       "      <td>-73.988</td>\n",
       "      <td>0032949</td>\n",
       "    </tr>\n",
       "    <tr>\n",
       "      <th>3</th>\n",
       "      <td>2024-01-22 18:29:46</td>\n",
       "      <td>2024-01-22 18:00:00</td>\n",
       "      <td>40.735</td>\n",
       "      <td>-73.988</td>\n",
       "      <td>0032949</td>\n",
       "    </tr>\n",
       "    <tr>\n",
       "      <th>4</th>\n",
       "      <td>2024-01-27 09:55:39</td>\n",
       "      <td>2024-01-27 10:00:00</td>\n",
       "      <td>40.735</td>\n",
       "      <td>-73.988</td>\n",
       "      <td>0032949</td>\n",
       "    </tr>\n",
       "  </tbody>\n",
       "</table>\n",
       "</div>"
      ],
      "text/plain": [
       "            Timestamp   Timestamp_Rounded  Latitude  Longitude SegmentId\n",
       "0 2024-01-25 20:39:09 2024-01-25 21:00:00    40.735    -73.991   0032805\n",
       "1 2024-01-15 18:44:36 2024-01-15 19:00:00    40.735    -73.988   0032949\n",
       "2 2024-01-03 19:27:58 2024-01-03 19:00:00    40.735    -73.988   0032949\n",
       "3 2024-01-22 18:29:46 2024-01-22 18:00:00    40.735    -73.988   0032949\n",
       "4 2024-01-27 09:55:39 2024-01-27 10:00:00    40.735    -73.988   0032949"
      ]
     },
     "execution_count": 116,
     "metadata": {},
     "output_type": "execute_result"
    }
   ],
   "source": [
    "print(\"Length of segment ids: \", len(segment_ids))\n",
    "df_bike_new.head()"
   ]
  },
  {
   "cell_type": "code",
   "execution_count": 115,
   "metadata": {},
   "outputs": [
    {
     "name": "stdout",
     "output_type": "stream",
     "text": [
      "Segment ids saved\n"
     ]
    }
   ],
   "source": [
    "# Convert segment ids into json format\n",
    "segment_ids_as_json = {}\n",
    "for key in segment_ids.keys():\n",
    "    tuple_str = \",\".join([str(key[0]), str(key[1])])\n",
    "    segment_ids_as_json[tuple_str] = segment_ids[key]\n",
    "\n",
    "# Save segment ids for future use\n",
    "with open(f\"{OUTPUT_DIR}/segment_id_dict.json\", \"w\") as outfile: \n",
    "    json.dump(segment_ids_as_json, outfile)\n",
    "    print(\"Segment ids saved\")"
   ]
  },
  {
   "cell_type": "code",
   "execution_count": 118,
   "metadata": {},
   "outputs": [
    {
     "name": "stdout",
     "output_type": "stream",
     "text": [
      "Bike data saved: output//202401-citibike-tripdata_with_segments.csv\n",
      "Transit data saved: output//MTA_Subway_Hourly_Ridership_20240607_with_segments.csv\n"
     ]
    }
   ],
   "source": [
    "# Save our dataframes\n",
    "SUBWAY_DATA = \"input_data/MTA_Subway_Hourly_Ridership_20240607.csv\"\n",
    "BIKE_DATA_1 = \"input_data/202401-citibike-tripdata_1.csv\"\n",
    "BIKE_DATA_2 = \"input_data/202401-citibike-tripdata_2.csv\"\n",
    "\n",
    "bike_csv = f\"{OUTPUT_DIR}/202401-citibike-tripdata_with_segments.csv\"\n",
    "df_bike_new.to_csv(bike_csv, index=False)\n",
    "print(f\"Bike data saved: {bike_csv}\")"
   ]
  },
  {
   "cell_type": "code",
   "execution_count": 28,
   "metadata": {},
   "outputs": [
    {
     "name": "stdout",
     "output_type": "stream",
     "text": [
      "Transit data saved: output//MTA_Subway_Hourly_Ridership_20240607_with_segments.csv\n"
     ]
    }
   ],
   "source": [
    "transit_csv = f\"{OUTPUT_DIR}/MTA_Subway_Hourly_Ridership_20240607_with_segments.csv\"\n",
    "df_transit.to_csv(transit_csv, index=False)\n",
    "print(f\"Transit data saved: {transit_csv}\")"
   ]
  },
  {
   "cell_type": "code",
   "execution_count": 30,
   "metadata": {},
   "outputs": [
    {
     "data": {
      "text/html": [
       "<div>\n",
       "<style scoped>\n",
       "    .dataframe tbody tr th:only-of-type {\n",
       "        vertical-align: middle;\n",
       "    }\n",
       "\n",
       "    .dataframe tbody tr th {\n",
       "        vertical-align: top;\n",
       "    }\n",
       "\n",
       "    .dataframe thead th {\n",
       "        text-align: right;\n",
       "    }\n",
       "</style>\n",
       "<table border=\"1\" class=\"dataframe\">\n",
       "  <thead>\n",
       "    <tr style=\"text-align: right;\">\n",
       "      <th></th>\n",
       "      <th>transit_timestamp</th>\n",
       "      <th>transit_mode</th>\n",
       "      <th>station_complex_id</th>\n",
       "      <th>station_complex</th>\n",
       "      <th>borough</th>\n",
       "      <th>payment_method</th>\n",
       "      <th>fare_class_category</th>\n",
       "      <th>ridership</th>\n",
       "      <th>transfers</th>\n",
       "      <th>Latitude</th>\n",
       "      <th>Longitude</th>\n",
       "      <th>Georeference</th>\n",
       "      <th>Counties</th>\n",
       "      <th>NYS Municipal Boundaries</th>\n",
       "      <th>New York Zip Codes</th>\n",
       "      <th>SegmentId</th>\n",
       "    </tr>\n",
       "  </thead>\n",
       "  <tbody>\n",
       "    <tr>\n",
       "      <th>0</th>\n",
       "      <td>2024-01-01 00:00:00</td>\n",
       "      <td>subway</td>\n",
       "      <td>404</td>\n",
       "      <td>28 St (6)</td>\n",
       "      <td>Manhattan</td>\n",
       "      <td>metrocard</td>\n",
       "      <td>Metrocard - Fair Fare</td>\n",
       "      <td>8</td>\n",
       "      <td>0</td>\n",
       "      <td>40.743070</td>\n",
       "      <td>-73.984260</td>\n",
       "      <td>POINT (-73.98426 40.74307)</td>\n",
       "      <td>2095</td>\n",
       "      <td>749</td>\n",
       "      <td>739.0</td>\n",
       "      <td>33181</td>\n",
       "    </tr>\n",
       "    <tr>\n",
       "      <th>1</th>\n",
       "      <td>2024-01-01 00:00:00</td>\n",
       "      <td>subway</td>\n",
       "      <td>309</td>\n",
       "      <td>103 St (1)</td>\n",
       "      <td>Manhattan</td>\n",
       "      <td>metrocard</td>\n",
       "      <td>Metrocard - Fair Fare</td>\n",
       "      <td>3</td>\n",
       "      <td>0</td>\n",
       "      <td>40.799446</td>\n",
       "      <td>-73.968376</td>\n",
       "      <td>POINT (-73.968376 40.799446)</td>\n",
       "      <td>2095</td>\n",
       "      <td>749</td>\n",
       "      <td>752.0</td>\n",
       "      <td>38133</td>\n",
       "    </tr>\n",
       "    <tr>\n",
       "      <th>2</th>\n",
       "      <td>2024-01-01 00:00:00</td>\n",
       "      <td>subway</td>\n",
       "      <td>394</td>\n",
       "      <td>110 St (6)</td>\n",
       "      <td>Manhattan</td>\n",
       "      <td>metrocard</td>\n",
       "      <td>Metrocard - Other</td>\n",
       "      <td>3</td>\n",
       "      <td>0</td>\n",
       "      <td>40.795020</td>\n",
       "      <td>-73.944250</td>\n",
       "      <td>POINT (-73.94425 40.79502)</td>\n",
       "      <td>2095</td>\n",
       "      <td>749</td>\n",
       "      <td>756.0</td>\n",
       "      <td>38090</td>\n",
       "    </tr>\n",
       "    <tr>\n",
       "      <th>3</th>\n",
       "      <td>2024-01-01 00:00:00</td>\n",
       "      <td>subway</td>\n",
       "      <td>162</td>\n",
       "      <td>50 St (C,E)</td>\n",
       "      <td>Manhattan</td>\n",
       "      <td>omny</td>\n",
       "      <td>OMNY - Seniors &amp; Disability</td>\n",
       "      <td>1</td>\n",
       "      <td>0</td>\n",
       "      <td>40.762455</td>\n",
       "      <td>-73.985985</td>\n",
       "      <td>POINT (-73.985985 40.762455)</td>\n",
       "      <td>2095</td>\n",
       "      <td>749</td>\n",
       "      <td>742.0</td>\n",
       "      <td>34097</td>\n",
       "    </tr>\n",
       "    <tr>\n",
       "      <th>4</th>\n",
       "      <td>2024-01-01 00:00:00</td>\n",
       "      <td>subway</td>\n",
       "      <td>403</td>\n",
       "      <td>33 St (6)</td>\n",
       "      <td>Manhattan</td>\n",
       "      <td>metrocard</td>\n",
       "      <td>Metrocard - Unlimited 30-Day</td>\n",
       "      <td>9</td>\n",
       "      <td>0</td>\n",
       "      <td>40.746082</td>\n",
       "      <td>-73.982080</td>\n",
       "      <td>POINT (-73.98208 40.746082)</td>\n",
       "      <td>2095</td>\n",
       "      <td>749</td>\n",
       "      <td>739.0</td>\n",
       "      <td>281182</td>\n",
       "    </tr>\n",
       "  </tbody>\n",
       "</table>\n",
       "</div>"
      ],
      "text/plain": [
       "     transit_timestamp transit_mode station_complex_id station_complex  \\\n",
       "0  2024-01-01 00:00:00       subway                404       28 St (6)   \n",
       "1  2024-01-01 00:00:00       subway                309      103 St (1)   \n",
       "2  2024-01-01 00:00:00       subway                394      110 St (6)   \n",
       "3  2024-01-01 00:00:00       subway                162     50 St (C,E)   \n",
       "4  2024-01-01 00:00:00       subway                403       33 St (6)   \n",
       "\n",
       "     borough payment_method           fare_class_category  ridership  \\\n",
       "0  Manhattan      metrocard         Metrocard - Fair Fare          8   \n",
       "1  Manhattan      metrocard         Metrocard - Fair Fare          3   \n",
       "2  Manhattan      metrocard             Metrocard - Other          3   \n",
       "3  Manhattan           omny   OMNY - Seniors & Disability          1   \n",
       "4  Manhattan      metrocard  Metrocard - Unlimited 30-Day          9   \n",
       "\n",
       "   transfers   Latitude  Longitude                  Georeference  Counties  \\\n",
       "0          0  40.743070 -73.984260    POINT (-73.98426 40.74307)      2095   \n",
       "1          0  40.799446 -73.968376  POINT (-73.968376 40.799446)      2095   \n",
       "2          0  40.795020 -73.944250    POINT (-73.94425 40.79502)      2095   \n",
       "3          0  40.762455 -73.985985  POINT (-73.985985 40.762455)      2095   \n",
       "4          0  40.746082 -73.982080   POINT (-73.98208 40.746082)      2095   \n",
       "\n",
       "   NYS Municipal Boundaries  New York Zip Codes  SegmentId  \n",
       "0                       749               739.0      33181  \n",
       "1                       749               752.0      38133  \n",
       "2                       749               756.0      38090  \n",
       "3                       749               742.0      34097  \n",
       "4                       749               739.0     281182  "
      ]
     },
     "execution_count": 30,
     "metadata": {},
     "output_type": "execute_result"
    }
   ],
   "source": [
    "check_df = pd.read_csv(transit_csv)\n",
    "check_df.head()"
   ]
  }
 ],
 "metadata": {
  "kernelspec": {
   "display_name": "comp30830",
   "language": "python",
   "name": "python3"
  },
  "language_info": {
   "codemirror_mode": {
    "name": "ipython",
    "version": 3
   },
   "file_extension": ".py",
   "mimetype": "text/x-python",
   "name": "python",
   "nbconvert_exporter": "python",
   "pygments_lexer": "ipython3",
   "version": "3.11.6"
  }
 },
 "nbformat": 4,
 "nbformat_minor": 2
}
